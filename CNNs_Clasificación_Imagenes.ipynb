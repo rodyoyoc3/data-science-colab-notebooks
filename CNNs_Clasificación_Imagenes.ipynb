{
  "nbformat": 4,
  "nbformat_minor": 0,
  "metadata": {
    "colab": {
      "provenance": [],
      "gpuType": "T4"
    },
    "kernelspec": {
      "name": "python3",
      "display_name": "Python 3"
    },
    "language_info": {
      "name": "python"
    },
    "accelerator": "GPU"
  },
  "cells": [
    {
      "cell_type": "code",
      "execution_count": null,
      "metadata": {
        "colab": {
          "base_uri": "https://localhost:8080/"
        },
        "id": "0XpnX1AGrVtG",
        "outputId": "570e98d2-227c-49cc-db52-571dfdf9e3f3"
      },
      "outputs": [
        {
          "output_type": "stream",
          "name": "stdout",
          "text": [
            "Primera Práctica de Laboratorio — Curso de Deep Learning DNNs, Regularización y Redes Convolucionales (CNNs)\n",
            "-------------------------------------------------\n",
            "Universidad Casa Grande\n",
            "Maestría en Ciencia de Datos e Inteligencia Artificial\n",
            "Catedra : Deep Learning and Neural Networks Architectures\n",
            "Practica 1: Redes Convolucionales (CNNs) para Clasificación de Imágenes\n",
            "Estudiante : Rodrigo Cárdenas Cueva\n",
            "\n",
            "\n",
            "\n"
          ]
        }
      ],
      "source": [
        "print(\"Primera Práctica de Laboratorio — Curso de Deep Learning DNNs, Regularización y Redes Convolucionales (CNNs)\")\n",
        "print(\"-------------------------------------------------\")\n",
        "print(\"Universidad Casa Grande\")\n",
        "print(\"Maestría en Ciencia de Datos e Inteligencia Artificial\")\n",
        "print(\"Catedra : Deep Learning and Neural Networks Architectures\")\n",
        "print(\"Practica 1: Redes Convolucionales (CNNs) para Clasificación de Imágenes\")\n",
        "print(\"Estudiante : Rodrigo Cárdenas Cueva\\n\\n\\n\")"
      ]
    },
    {
      "cell_type": "markdown",
      "source": [
        "PASO 1: Carga del Dataset para Clasificación Binaria"
      ],
      "metadata": {
        "id": "vL_zUv36sYAb"
      }
    },
    {
      "cell_type": "code",
      "source": [
        "# Cargamos las librerías\n",
        "import os\n",
        "import torch\n",
        "import torchvision\n",
        "import torchvision.transforms as transforms\n",
        "from torchvision.datasets import ImageFolder\n",
        "from torch.utils.data import DataLoader, random_split\n",
        "import matplotlib.pyplot as plt\n",
        "\n",
        "# Verificar si hay GPU\n",
        "device = torch.device(\"cuda\" if torch.cuda.is_available() else \"cpu\")\n",
        "print(f\"✅ Usando dispositivo: {device}\")"
      ],
      "metadata": {
        "colab": {
          "base_uri": "https://localhost:8080/"
        },
        "id": "LU4eAkJzscEV",
        "outputId": "00887695-5552-4510-9838-d88e3d919f87"
      },
      "execution_count": null,
      "outputs": [
        {
          "output_type": "stream",
          "name": "stdout",
          "text": [
            "✅ Usando dispositivo: cuda\n"
          ]
        }
      ]
    },
    {
      "cell_type": "code",
      "source": [
        "from google.colab import files\n",
        "\n",
        "# Subimos manualmente el archivo dataset.zip\n",
        "uploaded = files.upload()"
      ],
      "metadata": {
        "colab": {
          "base_uri": "https://localhost:8080/",
          "height": 71
        },
        "id": "KjCgd_Jp0Ksu",
        "outputId": "5ef851ca-04be-4759-f192-34560f4b2e7c"
      },
      "execution_count": null,
      "outputs": [
        {
          "output_type": "display_data",
          "data": {
            "text/plain": [
              "<IPython.core.display.HTML object>"
            ],
            "text/html": [
              "\n",
              "     <input type=\"file\" id=\"files-8f7a7823-bf94-4efa-8f92-225976413205\" name=\"files[]\" multiple disabled\n",
              "        style=\"border:none\" />\n",
              "     <output id=\"result-8f7a7823-bf94-4efa-8f92-225976413205\">\n",
              "      Upload widget is only available when the cell has been executed in the\n",
              "      current browser session. Please rerun this cell to enable.\n",
              "      </output>\n",
              "      <script>// Copyright 2017 Google LLC\n",
              "//\n",
              "// Licensed under the Apache License, Version 2.0 (the \"License\");\n",
              "// you may not use this file except in compliance with the License.\n",
              "// You may obtain a copy of the License at\n",
              "//\n",
              "//      http://www.apache.org/licenses/LICENSE-2.0\n",
              "//\n",
              "// Unless required by applicable law or agreed to in writing, software\n",
              "// distributed under the License is distributed on an \"AS IS\" BASIS,\n",
              "// WITHOUT WARRANTIES OR CONDITIONS OF ANY KIND, either express or implied.\n",
              "// See the License for the specific language governing permissions and\n",
              "// limitations under the License.\n",
              "\n",
              "/**\n",
              " * @fileoverview Helpers for google.colab Python module.\n",
              " */\n",
              "(function(scope) {\n",
              "function span(text, styleAttributes = {}) {\n",
              "  const element = document.createElement('span');\n",
              "  element.textContent = text;\n",
              "  for (const key of Object.keys(styleAttributes)) {\n",
              "    element.style[key] = styleAttributes[key];\n",
              "  }\n",
              "  return element;\n",
              "}\n",
              "\n",
              "// Max number of bytes which will be uploaded at a time.\n",
              "const MAX_PAYLOAD_SIZE = 100 * 1024;\n",
              "\n",
              "function _uploadFiles(inputId, outputId) {\n",
              "  const steps = uploadFilesStep(inputId, outputId);\n",
              "  const outputElement = document.getElementById(outputId);\n",
              "  // Cache steps on the outputElement to make it available for the next call\n",
              "  // to uploadFilesContinue from Python.\n",
              "  outputElement.steps = steps;\n",
              "\n",
              "  return _uploadFilesContinue(outputId);\n",
              "}\n",
              "\n",
              "// This is roughly an async generator (not supported in the browser yet),\n",
              "// where there are multiple asynchronous steps and the Python side is going\n",
              "// to poll for completion of each step.\n",
              "// This uses a Promise to block the python side on completion of each step,\n",
              "// then passes the result of the previous step as the input to the next step.\n",
              "function _uploadFilesContinue(outputId) {\n",
              "  const outputElement = document.getElementById(outputId);\n",
              "  const steps = outputElement.steps;\n",
              "\n",
              "  const next = steps.next(outputElement.lastPromiseValue);\n",
              "  return Promise.resolve(next.value.promise).then((value) => {\n",
              "    // Cache the last promise value to make it available to the next\n",
              "    // step of the generator.\n",
              "    outputElement.lastPromiseValue = value;\n",
              "    return next.value.response;\n",
              "  });\n",
              "}\n",
              "\n",
              "/**\n",
              " * Generator function which is called between each async step of the upload\n",
              " * process.\n",
              " * @param {string} inputId Element ID of the input file picker element.\n",
              " * @param {string} outputId Element ID of the output display.\n",
              " * @return {!Iterable<!Object>} Iterable of next steps.\n",
              " */\n",
              "function* uploadFilesStep(inputId, outputId) {\n",
              "  const inputElement = document.getElementById(inputId);\n",
              "  inputElement.disabled = false;\n",
              "\n",
              "  const outputElement = document.getElementById(outputId);\n",
              "  outputElement.innerHTML = '';\n",
              "\n",
              "  const pickedPromise = new Promise((resolve) => {\n",
              "    inputElement.addEventListener('change', (e) => {\n",
              "      resolve(e.target.files);\n",
              "    });\n",
              "  });\n",
              "\n",
              "  const cancel = document.createElement('button');\n",
              "  inputElement.parentElement.appendChild(cancel);\n",
              "  cancel.textContent = 'Cancel upload';\n",
              "  const cancelPromise = new Promise((resolve) => {\n",
              "    cancel.onclick = () => {\n",
              "      resolve(null);\n",
              "    };\n",
              "  });\n",
              "\n",
              "  // Wait for the user to pick the files.\n",
              "  const files = yield {\n",
              "    promise: Promise.race([pickedPromise, cancelPromise]),\n",
              "    response: {\n",
              "      action: 'starting',\n",
              "    }\n",
              "  };\n",
              "\n",
              "  cancel.remove();\n",
              "\n",
              "  // Disable the input element since further picks are not allowed.\n",
              "  inputElement.disabled = true;\n",
              "\n",
              "  if (!files) {\n",
              "    return {\n",
              "      response: {\n",
              "        action: 'complete',\n",
              "      }\n",
              "    };\n",
              "  }\n",
              "\n",
              "  for (const file of files) {\n",
              "    const li = document.createElement('li');\n",
              "    li.append(span(file.name, {fontWeight: 'bold'}));\n",
              "    li.append(span(\n",
              "        `(${file.type || 'n/a'}) - ${file.size} bytes, ` +\n",
              "        `last modified: ${\n",
              "            file.lastModifiedDate ? file.lastModifiedDate.toLocaleDateString() :\n",
              "                                    'n/a'} - `));\n",
              "    const percent = span('0% done');\n",
              "    li.appendChild(percent);\n",
              "\n",
              "    outputElement.appendChild(li);\n",
              "\n",
              "    const fileDataPromise = new Promise((resolve) => {\n",
              "      const reader = new FileReader();\n",
              "      reader.onload = (e) => {\n",
              "        resolve(e.target.result);\n",
              "      };\n",
              "      reader.readAsArrayBuffer(file);\n",
              "    });\n",
              "    // Wait for the data to be ready.\n",
              "    let fileData = yield {\n",
              "      promise: fileDataPromise,\n",
              "      response: {\n",
              "        action: 'continue',\n",
              "      }\n",
              "    };\n",
              "\n",
              "    // Use a chunked sending to avoid message size limits. See b/62115660.\n",
              "    let position = 0;\n",
              "    do {\n",
              "      const length = Math.min(fileData.byteLength - position, MAX_PAYLOAD_SIZE);\n",
              "      const chunk = new Uint8Array(fileData, position, length);\n",
              "      position += length;\n",
              "\n",
              "      const base64 = btoa(String.fromCharCode.apply(null, chunk));\n",
              "      yield {\n",
              "        response: {\n",
              "          action: 'append',\n",
              "          file: file.name,\n",
              "          data: base64,\n",
              "        },\n",
              "      };\n",
              "\n",
              "      let percentDone = fileData.byteLength === 0 ?\n",
              "          100 :\n",
              "          Math.round((position / fileData.byteLength) * 100);\n",
              "      percent.textContent = `${percentDone}% done`;\n",
              "\n",
              "    } while (position < fileData.byteLength);\n",
              "  }\n",
              "\n",
              "  // All done.\n",
              "  yield {\n",
              "    response: {\n",
              "      action: 'complete',\n",
              "    }\n",
              "  };\n",
              "}\n",
              "\n",
              "scope.google = scope.google || {};\n",
              "scope.google.colab = scope.google.colab || {};\n",
              "scope.google.colab._files = {\n",
              "  _uploadFiles,\n",
              "  _uploadFilesContinue,\n",
              "};\n",
              "})(self);\n",
              "</script> "
            ]
          },
          "metadata": {}
        },
        {
          "output_type": "stream",
          "name": "stdout",
          "text": [
            "Saving dataset.zip to dataset.zip\n"
          ]
        }
      ]
    },
    {
      "cell_type": "code",
      "source": [
        "import zipfile\n",
        "import os\n",
        "\n",
        "# Descomprimimos en una carpeta llamada 'data'\n",
        "with zipfile.ZipFile(\"dataset.zip\", 'r') as zip_ref:\n",
        "    zip_ref.extractall(\"data\")\n",
        "\n",
        "# Verifica la estructura\n",
        "print(os.listdir(\"data/dataset/training_set\"))\n"
      ],
      "metadata": {
        "colab": {
          "base_uri": "https://localhost:8080/"
        },
        "id": "L2J74jWq1Hlp",
        "outputId": "ed75c85d-ff38-4fdc-e715-f7fa20dcd03e"
      },
      "execution_count": null,
      "outputs": [
        {
          "output_type": "stream",
          "name": "stdout",
          "text": [
            "['cats', 'dogs']\n"
          ]
        }
      ]
    },
    {
      "cell_type": "markdown",
      "source": [
        "PASO 2: Cargar el dataset y preparar el DataLoader"
      ],
      "metadata": {
        "id": "XfNexWh4s3Qq"
      }
    },
    {
      "cell_type": "code",
      "source": [
        "from torchvision import datasets, transforms\n",
        "from torch.utils.data import DataLoader\n",
        "\n",
        "# Transformaciones para preprocesamiento\n",
        "transform = transforms.Compose([\n",
        "    transforms.Resize((128, 128)),             # Redimensionamos a 128x128\n",
        "    transforms.ToTensor(),                     # Convertimos a tensor\n",
        "    transforms.Normalize([0.5]*3, [0.5]*3)      # Normalizamos RGB en rango [-1, 1]\n",
        "])\n",
        "\n",
        "# Ruta al dataset\n",
        "train_dir = \"data/dataset/training_set\"\n",
        "\n",
        "# Dataset con estructura de carpetas por clase\n",
        "train_dataset = datasets.ImageFolder(root=train_dir, transform=transform)\n",
        "\n",
        "# DataLoader para iterar por lotes\n",
        "train_loader = DataLoader(train_dataset, batch_size=32, shuffle=True)\n",
        "\n",
        "# Verificamos las clases\n",
        "print(\"Clases detectadas:\", train_dataset.classes)\n",
        "print(\"Total de imágenes:\", len(train_dataset))\n"
      ],
      "metadata": {
        "colab": {
          "base_uri": "https://localhost:8080/"
        },
        "id": "YNxp5bNi7sd9",
        "outputId": "97368d00-212f-45ab-f486-00a080b32471"
      },
      "execution_count": null,
      "outputs": [
        {
          "output_type": "stream",
          "name": "stdout",
          "text": [
            "Clases detectadas: ['cats', 'dogs']\n",
            "Total de imágenes: 8000\n"
          ]
        }
      ]
    },
    {
      "cell_type": "code",
      "source": [
        "# PASO 2: Transformación alternativa con Data Augmentation (para entrenar una variante más)\n",
        "transform_augmented = transforms.Compose([\n",
        "    transforms.Resize((128, 128)),\n",
        "    transforms.RandomHorizontalFlip(p=0.5),\n",
        "    transforms.RandomRotation(15),\n",
        "    transforms.RandomResizedCrop(128, scale=(0.8, 1.0)),\n",
        "    transforms.ColorJitter(brightness=0.2, contrast=0.2),\n",
        "    transforms.ToTensor(),\n",
        "    transforms.Normalize([0.5]*3, [0.5]*3)\n",
        "])\n",
        "\n",
        "# Dataset y loader con data augmentation\n",
        "train_dataset_augmented = ImageFolder(root=train_dir, transform=transform_augmented)\n",
        "train_loader_augmented = DataLoader(train_dataset_augmented, batch_size=32, shuffle=True)\n",
        "\n",
        "# Entrenar con el nuevo dataset\n",
        "model_aug = SimpleCNN().to(device)\n",
        "optimizer_aug = torch.optim.Adam(model_aug.parameters(), lr=0.001)\n",
        "train_model(model_aug, train_loader_augmented, criterion, optimizer_aug, epochs=10, device=device, label_hist=\"CNN_Augmented\")\n"
      ],
      "metadata": {
        "id": "V-G5QnKyy-QO"
      },
      "execution_count": null,
      "outputs": []
    },
    {
      "cell_type": "markdown",
      "source": [
        "PASO 3: Definir y Entrenar una CNN Sencilla para Clasificación Binaria\n",
        "1. Definir una arquitectura de red convolucional simple.\n",
        "2. Configurar la función de pérdida y el optimizador.\n",
        "3. Entrenar la red por algunas épocas sobre el dataset cargado.\n",
        "4. Monitorear la pérdida y exactitud (accuracy) durante el entrenamiento."
      ],
      "metadata": {
        "id": "OdrCtgj7s9OZ"
      }
    },
    {
      "cell_type": "code",
      "source": [
        "import torch.nn as nn\n",
        "import torch.nn.functional as F\n",
        "\n",
        "# Definimos una red CNN básica\n",
        "class SimpleCNN(nn.Module):\n",
        "    def __init__(self):\n",
        "        super(SimpleCNN, self).__init__()\n",
        "        self.conv1 = nn.Conv2d(in_channels=3, out_channels=16, kernel_size=3, padding=1)\n",
        "        self.pool = nn.MaxPool2d(2, 2)\n",
        "        self.conv2 = nn.Conv2d(16, 32, 3, padding=1)\n",
        "        self.fc1 = nn.Linear(32 * 32 * 32, 128)  # 128x128 -> pooling 2 veces -> 32x32\n",
        "        self.fc2 = nn.Linear(128, 1)  # Salida binaria\n",
        "\n",
        "    def forward(self, x):\n",
        "        x = self.pool(F.relu(self.conv1(x)))  # (128x128 -> 64x64)\n",
        "        x = self.pool(F.relu(self.conv2(x)))  # (64x64 -> 32x32)\n",
        "        x = x.view(-1, 32 * 32 * 32)          # Flatten\n",
        "        x = F.relu(self.fc1(x))\n",
        "        x = torch.sigmoid(self.fc2(x))        # Salida entre [0, 1]\n",
        "        return x\n",
        "\n",
        "# Instanciamos el modelo\n",
        "model = SimpleCNN().to(device)\n",
        "print(model)\n"
      ],
      "metadata": {
        "colab": {
          "base_uri": "https://localhost:8080/"
        },
        "id": "JV8KMzvJ8fRV",
        "outputId": "d34d0353-96aa-4a7b-ac5d-a3204c994386"
      },
      "execution_count": null,
      "outputs": [
        {
          "output_type": "stream",
          "name": "stdout",
          "text": [
            "SimpleCNN(\n",
            "  (conv1): Conv2d(3, 16, kernel_size=(3, 3), stride=(1, 1), padding=(1, 1))\n",
            "  (pool): MaxPool2d(kernel_size=2, stride=2, padding=0, dilation=1, ceil_mode=False)\n",
            "  (conv2): Conv2d(16, 32, kernel_size=(3, 3), stride=(1, 1), padding=(1, 1))\n",
            "  (fc1): Linear(in_features=32768, out_features=128, bias=True)\n",
            "  (fc2): Linear(in_features=128, out_features=1, bias=True)\n",
            ")\n"
          ]
        }
      ]
    },
    {
      "cell_type": "code",
      "source": [
        "#Configuramos Périda y Optimizador\n",
        "import torch.optim as optim\n",
        "\n",
        "criterion = nn.BCELoss()  # Para salida binaria\n",
        "optimizer = optim.Adam(model.parameters(), lr=0.001)"
      ],
      "metadata": {
        "id": "Da6JOv9U81c6"
      },
      "execution_count": null,
      "outputs": []
    },
    {
      "cell_type": "code",
      "source": [],
      "metadata": {
        "id": "ZnQLAg6-Dctk"
      },
      "execution_count": null,
      "outputs": []
    },
    {
      "cell_type": "code",
      "execution_count": null,
      "metadata": {
        "colab": {
          "base_uri": "https://localhost:8080/"
        },
        "outputId": "46e94875-74e9-42bf-e81b-c8b0402fb29c",
        "id": "SLf2aXmMDeJx"
      },
      "outputs": [
        {
          "output_type": "stream",
          "name": "stdout",
          "text": [
            "Primera Práctica de Laboratorio — Curso de Deep Learning DNNs, Regularización y Redes Convolucionales (CNNs)\n",
            "-------------------------------------------------\n",
            "Universidad Casa Grande\n",
            "Maestría en Ciencia de Datos e Inteligencia Artificial\n",
            "Catedra : Deep Learning and Neural Networks Architectures\n",
            "Practica 1: Redes Convolucionales (CNNs) para Clasificación de Imágenes\n",
            "Estudiante : Rodrigo Cárdenas Cueva\n",
            "\n",
            "\n",
            "\n"
          ]
        }
      ],
      "source": [
        "print(\"Primera Práctica de Laboratorio — Curso de Deep Learning DNNs, Regularización y Redes Convolucionales (CNNs)\")\n",
        "print(\"-------------------------------------------------\")\n",
        "print(\"Universidad Casa Grande\")\n",
        "print(\"Maestría en Ciencia de Datos e Inteligencia Artificial\")\n",
        "print(\"Catedra : Deep Learning and Neural Networks Architectures\")\n",
        "print(\"Practica 1: Redes Convolucionales (CNNs) para Clasificación de Imágenes\")\n",
        "print(\"Estudiante : Rodrigo Cárdenas Cueva\\n\\n\\n\")"
      ]
    },
    {
      "cell_type": "markdown",
      "source": [
        "PASO 1: Carga del Dataset para Clasificación Binaria"
      ],
      "metadata": {
        "id": "uJgwlsCpDeJy"
      }
    },
    {
      "cell_type": "code",
      "source": [
        "# Cargamos las librerías\n",
        "import os\n",
        "import torch\n",
        "import torchvision\n",
        "import torchvision.transforms as transforms\n",
        "from torchvision.datasets import ImageFolder\n",
        "from torch.utils.data import DataLoader, random_split\n",
        "import matplotlib.pyplot as plt\n",
        "\n",
        "# Verificar si hay GPU\n",
        "device = torch.device(\"cuda\" if torch.cuda.is_available() else \"cpu\")\n",
        "print(f\"✅ Usando dispositivo: {device}\")"
      ],
      "metadata": {
        "colab": {
          "base_uri": "https://localhost:8080/"
        },
        "outputId": "f6b64915-1ba2-46c8-b2f9-7a716853e034",
        "id": "BLB5jn3qDeJy"
      },
      "execution_count": null,
      "outputs": [
        {
          "output_type": "stream",
          "name": "stdout",
          "text": [
            "✅ Usando dispositivo: cpu\n"
          ]
        }
      ]
    },
    {
      "cell_type": "code",
      "source": [
        "from google.colab import files\n",
        "\n",
        "# Subimos manualmente el archivo dataset.zip\n",
        "uploaded = files.upload()"
      ],
      "metadata": {
        "colab": {
          "base_uri": "https://localhost:8080/",
          "height": 71
        },
        "outputId": "d14f4533-9ace-4c8d-db6f-6a5e1c1e1020",
        "id": "pQnz0k07DeJy"
      },
      "execution_count": null,
      "outputs": [
        {
          "output_type": "display_data",
          "data": {
            "text/plain": [
              "<IPython.core.display.HTML object>"
            ],
            "text/html": [
              "\n",
              "     <input type=\"file\" id=\"files-9d5b3dfa-ed79-4a8e-9416-9749fd114351\" name=\"files[]\" multiple disabled\n",
              "        style=\"border:none\" />\n",
              "     <output id=\"result-9d5b3dfa-ed79-4a8e-9416-9749fd114351\">\n",
              "      Upload widget is only available when the cell has been executed in the\n",
              "      current browser session. Please rerun this cell to enable.\n",
              "      </output>\n",
              "      <script>// Copyright 2017 Google LLC\n",
              "//\n",
              "// Licensed under the Apache License, Version 2.0 (the \"License\");\n",
              "// you may not use this file except in compliance with the License.\n",
              "// You may obtain a copy of the License at\n",
              "//\n",
              "//      http://www.apache.org/licenses/LICENSE-2.0\n",
              "//\n",
              "// Unless required by applicable law or agreed to in writing, software\n",
              "// distributed under the License is distributed on an \"AS IS\" BASIS,\n",
              "// WITHOUT WARRANTIES OR CONDITIONS OF ANY KIND, either express or implied.\n",
              "// See the License for the specific language governing permissions and\n",
              "// limitations under the License.\n",
              "\n",
              "/**\n",
              " * @fileoverview Helpers for google.colab Python module.\n",
              " */\n",
              "(function(scope) {\n",
              "function span(text, styleAttributes = {}) {\n",
              "  const element = document.createElement('span');\n",
              "  element.textContent = text;\n",
              "  for (const key of Object.keys(styleAttributes)) {\n",
              "    element.style[key] = styleAttributes[key];\n",
              "  }\n",
              "  return element;\n",
              "}\n",
              "\n",
              "// Max number of bytes which will be uploaded at a time.\n",
              "const MAX_PAYLOAD_SIZE = 100 * 1024;\n",
              "\n",
              "function _uploadFiles(inputId, outputId) {\n",
              "  const steps = uploadFilesStep(inputId, outputId);\n",
              "  const outputElement = document.getElementById(outputId);\n",
              "  // Cache steps on the outputElement to make it available for the next call\n",
              "  // to uploadFilesContinue from Python.\n",
              "  outputElement.steps = steps;\n",
              "\n",
              "  return _uploadFilesContinue(outputId);\n",
              "}\n",
              "\n",
              "// This is roughly an async generator (not supported in the browser yet),\n",
              "// where there are multiple asynchronous steps and the Python side is going\n",
              "// to poll for completion of each step.\n",
              "// This uses a Promise to block the python side on completion of each step,\n",
              "// then passes the result of the previous step as the input to the next step.\n",
              "function _uploadFilesContinue(outputId) {\n",
              "  const outputElement = document.getElementById(outputId);\n",
              "  const steps = outputElement.steps;\n",
              "\n",
              "  const next = steps.next(outputElement.lastPromiseValue);\n",
              "  return Promise.resolve(next.value.promise).then((value) => {\n",
              "    // Cache the last promise value to make it available to the next\n",
              "    // step of the generator.\n",
              "    outputElement.lastPromiseValue = value;\n",
              "    return next.value.response;\n",
              "  });\n",
              "}\n",
              "\n",
              "/**\n",
              " * Generator function which is called between each async step of the upload\n",
              " * process.\n",
              " * @param {string} inputId Element ID of the input file picker element.\n",
              " * @param {string} outputId Element ID of the output display.\n",
              " * @return {!Iterable<!Object>} Iterable of next steps.\n",
              " */\n",
              "function* uploadFilesStep(inputId, outputId) {\n",
              "  const inputElement = document.getElementById(inputId);\n",
              "  inputElement.disabled = false;\n",
              "\n",
              "  const outputElement = document.getElementById(outputId);\n",
              "  outputElement.innerHTML = '';\n",
              "\n",
              "  const pickedPromise = new Promise((resolve) => {\n",
              "    inputElement.addEventListener('change', (e) => {\n",
              "      resolve(e.target.files);\n",
              "    });\n",
              "  });\n",
              "\n",
              "  const cancel = document.createElement('button');\n",
              "  inputElement.parentElement.appendChild(cancel);\n",
              "  cancel.textContent = 'Cancel upload';\n",
              "  const cancelPromise = new Promise((resolve) => {\n",
              "    cancel.onclick = () => {\n",
              "      resolve(null);\n",
              "    };\n",
              "  });\n",
              "\n",
              "  // Wait for the user to pick the files.\n",
              "  const files = yield {\n",
              "    promise: Promise.race([pickedPromise, cancelPromise]),\n",
              "    response: {\n",
              "      action: 'starting',\n",
              "    }\n",
              "  };\n",
              "\n",
              "  cancel.remove();\n",
              "\n",
              "  // Disable the input element since further picks are not allowed.\n",
              "  inputElement.disabled = true;\n",
              "\n",
              "  if (!files) {\n",
              "    return {\n",
              "      response: {\n",
              "        action: 'complete',\n",
              "      }\n",
              "    };\n",
              "  }\n",
              "\n",
              "  for (const file of files) {\n",
              "    const li = document.createElement('li');\n",
              "    li.append(span(file.name, {fontWeight: 'bold'}));\n",
              "    li.append(span(\n",
              "        `(${file.type || 'n/a'}) - ${file.size} bytes, ` +\n",
              "        `last modified: ${\n",
              "            file.lastModifiedDate ? file.lastModifiedDate.toLocaleDateString() :\n",
              "                                    'n/a'} - `));\n",
              "    const percent = span('0% done');\n",
              "    li.appendChild(percent);\n",
              "\n",
              "    outputElement.appendChild(li);\n",
              "\n",
              "    const fileDataPromise = new Promise((resolve) => {\n",
              "      const reader = new FileReader();\n",
              "      reader.onload = (e) => {\n",
              "        resolve(e.target.result);\n",
              "      };\n",
              "      reader.readAsArrayBuffer(file);\n",
              "    });\n",
              "    // Wait for the data to be ready.\n",
              "    let fileData = yield {\n",
              "      promise: fileDataPromise,\n",
              "      response: {\n",
              "        action: 'continue',\n",
              "      }\n",
              "    };\n",
              "\n",
              "    // Use a chunked sending to avoid message size limits. See b/62115660.\n",
              "    let position = 0;\n",
              "    do {\n",
              "      const length = Math.min(fileData.byteLength - position, MAX_PAYLOAD_SIZE);\n",
              "      const chunk = new Uint8Array(fileData, position, length);\n",
              "      position += length;\n",
              "\n",
              "      const base64 = btoa(String.fromCharCode.apply(null, chunk));\n",
              "      yield {\n",
              "        response: {\n",
              "          action: 'append',\n",
              "          file: file.name,\n",
              "          data: base64,\n",
              "        },\n",
              "      };\n",
              "\n",
              "      let percentDone = fileData.byteLength === 0 ?\n",
              "          100 :\n",
              "          Math.round((position / fileData.byteLength) * 100);\n",
              "      percent.textContent = `${percentDone}% done`;\n",
              "\n",
              "    } while (position < fileData.byteLength);\n",
              "  }\n",
              "\n",
              "  // All done.\n",
              "  yield {\n",
              "    response: {\n",
              "      action: 'complete',\n",
              "    }\n",
              "  };\n",
              "}\n",
              "\n",
              "scope.google = scope.google || {};\n",
              "scope.google.colab = scope.google.colab || {};\n",
              "scope.google.colab._files = {\n",
              "  _uploadFiles,\n",
              "  _uploadFilesContinue,\n",
              "};\n",
              "})(self);\n",
              "</script> "
            ]
          },
          "metadata": {}
        },
        {
          "output_type": "stream",
          "name": "stdout",
          "text": [
            "Saving dataset.zip to dataset.zip\n"
          ]
        }
      ]
    },
    {
      "cell_type": "code",
      "source": [
        "import zipfile\n",
        "import os\n",
        "\n",
        "# Descomprimir en una carpeta llamada 'data'\n",
        "with zipfile.ZipFile(\"dataset.zip\", 'r') as zip_ref:\n",
        "    zip_ref.extractall(\"data\")\n",
        "\n",
        "# Verifica la estructura\n",
        "print(os.listdir(\"data/dataset/training_set\"))\n"
      ],
      "metadata": {
        "colab": {
          "base_uri": "https://localhost:8080/"
        },
        "outputId": "4d06915c-d626-4578-ec8e-e89de60ba8e5",
        "id": "SDdPVkxUDeJy"
      },
      "execution_count": null,
      "outputs": [
        {
          "output_type": "stream",
          "name": "stdout",
          "text": [
            "['cats', 'dogs']\n"
          ]
        }
      ]
    },
    {
      "cell_type": "markdown",
      "source": [
        "PASO 2: Cargar el dataset y preparar el DataLoader"
      ],
      "metadata": {
        "id": "Mxys60NHDeJy"
      }
    },
    {
      "cell_type": "code",
      "source": [
        "from torchvision import datasets, transforms\n",
        "from torch.utils.data import DataLoader\n",
        "\n",
        "# Transformaciones para preprocesamiento\n",
        "transform = transforms.Compose([\n",
        "    transforms.Resize((128, 128)),             # Redimensionamos a 128x128\n",
        "    transforms.ToTensor(),                     # Convertimos a tensor\n",
        "    transforms.Normalize([0.5]*3, [0.5]*3)      # Normalizamos RGB en rango [-1, 1]\n",
        "])\n",
        "\n",
        "# Ruta al dataset\n",
        "train_dir = \"data/dataset/training_set\"\n",
        "\n",
        "# Dataset con estructura de carpetas por clase\n",
        "train_dataset = datasets.ImageFolder(root=train_dir, transform=transform)\n",
        "\n",
        "# DataLoader para iterar por lotes\n",
        "train_loader = DataLoader(train_dataset, batch_size=32, shuffle=True)\n",
        "\n",
        "# Verificamos las clases\n",
        "print(\"Clases detectadas:\", train_dataset.classes)\n",
        "print(\"Total de imágenes:\", len(train_dataset))\n"
      ],
      "metadata": {
        "colab": {
          "base_uri": "https://localhost:8080/"
        },
        "outputId": "97368d00-212f-45ab-f486-00a080b32471",
        "id": "U8jaky9lDeJy"
      },
      "execution_count": null,
      "outputs": [
        {
          "output_type": "stream",
          "name": "stdout",
          "text": [
            "Clases detectadas: ['cats', 'dogs']\n",
            "Total de imágenes: 8000\n"
          ]
        }
      ]
    },
    {
      "cell_type": "markdown",
      "source": [
        "PASO 3: Definir y Entrenar una CNN Sencilla para Clasificación Binaria\n",
        "1. Definir una arquitectura de red convolucional simple.\n",
        "2. Configurar la función de pérdida y el optimizador.\n",
        "3. Entrenar la red por algunas épocas sobre el dataset cargado.\n",
        "4. Monitorear la pérdida y exactitud (accuracy) durante el entrenamiento."
      ],
      "metadata": {
        "id": "0_GRhMwmDeJy"
      }
    },
    {
      "cell_type": "code",
      "source": [
        "import torch.nn as nn\n",
        "import torch.nn.functional as F\n",
        "\n",
        "# Definimos una red CNN básica\n",
        "class SimpleCNN(nn.Module):\n",
        "    def __init__(self):\n",
        "        super(SimpleCNN, self).__init__()\n",
        "        self.conv1 = nn.Conv2d(in_channels=3, out_channels=16, kernel_size=3, padding=1)\n",
        "        self.pool = nn.MaxPool2d(2, 2)\n",
        "        self.conv2 = nn.Conv2d(16, 32, 3, padding=1)\n",
        "        self.fc1 = nn.Linear(32 * 32 * 32, 128)  # 128x128 -> pooling 2 veces -> 32x32\n",
        "        self.fc2 = nn.Linear(128, 1)  # Salida binaria\n",
        "\n",
        "    def forward(self, x):\n",
        "        x = self.pool(F.relu(self.conv1(x)))  # (128x128 -> 64x64)\n",
        "        x = self.pool(F.relu(self.conv2(x)))  # (64x64 -> 32x32)\n",
        "        x = x.view(-1, 32 * 32 * 32)          # Flatten\n",
        "        x = F.relu(self.fc1(x))\n",
        "        x = torch.sigmoid(self.fc2(x))        # Salida entre [0, 1]\n",
        "        return x\n",
        "\n",
        "# Instanciamos el modelo\n",
        "model = SimpleCNN().to(device)\n",
        "print(model)\n"
      ],
      "metadata": {
        "colab": {
          "base_uri": "https://localhost:8080/"
        },
        "outputId": "d34d0353-96aa-4a7b-ac5d-a3204c994386",
        "id": "Tdo-mwlzDeJy"
      },
      "execution_count": null,
      "outputs": [
        {
          "output_type": "stream",
          "name": "stdout",
          "text": [
            "SimpleCNN(\n",
            "  (conv1): Conv2d(3, 16, kernel_size=(3, 3), stride=(1, 1), padding=(1, 1))\n",
            "  (pool): MaxPool2d(kernel_size=2, stride=2, padding=0, dilation=1, ceil_mode=False)\n",
            "  (conv2): Conv2d(16, 32, kernel_size=(3, 3), stride=(1, 1), padding=(1, 1))\n",
            "  (fc1): Linear(in_features=32768, out_features=128, bias=True)\n",
            "  (fc2): Linear(in_features=128, out_features=1, bias=True)\n",
            ")\n"
          ]
        }
      ]
    },
    {
      "cell_type": "code",
      "source": [
        "#Configuramos Périda y Optimizador\n",
        "import torch.optim as optim\n",
        "\n",
        "criterion = nn.BCELoss()  # Para salida binaria\n",
        "optimizer = optim.Adam(model.parameters(), lr=0.001)"
      ],
      "metadata": {
        "id": "yNNBHFXHDeJy"
      },
      "execution_count": null,
      "outputs": []
    },
    {
      "cell_type": "markdown",
      "source": [
        "PASO 4: Almacenar métricas de entrenamiento del modelo base"
      ],
      "metadata": {
        "id": "wy8M8LHyI5XK"
      }
    },
    {
      "cell_type": "code",
      "source": [
        "# Diccionario para guardar métricas\n",
        "history = {\n",
        "    \"SimpleCNN_color\": {\n",
        "        \"loss\": [],\n",
        "        \"accuracy\": []\n",
        "    }\n",
        "}"
      ],
      "metadata": {
        "id": "13VkamVmDg-L"
      },
      "execution_count": null,
      "outputs": []
    },
    {
      "cell_type": "code",
      "source": [
        "# Entrenamiento por 10 epoch\n",
        "epochs = 10\n",
        "\n",
        "for epoch in range(epochs):\n",
        "    running_loss = 0.0\n",
        "    correct = 0\n",
        "    total = 0\n",
        "\n",
        "    model.train()\n",
        "    for inputs, labels in train_loader:\n",
        "        inputs, labels = inputs.to(device), labels.to(device).float().unsqueeze(1)\n",
        "\n",
        "        optimizer.zero_grad()\n",
        "        outputs = model(inputs)\n",
        "        loss = criterion(outputs, labels)\n",
        "        loss.backward()\n",
        "        optimizer.step()\n",
        "\n",
        "        running_loss += loss.item()\n",
        "        predicted = (outputs > 0.5).float()\n",
        "        correct += (predicted == labels).sum().item()\n",
        "        total += labels.size(0)\n",
        "\n",
        "    epoch_loss = running_loss / len(train_loader)\n",
        "    epoch_acc = correct / total\n",
        "\n",
        "    # Guardamos las métricas\n",
        "    history[\"SimpleCNN_color\"][\"loss\"].append(epoch_loss)\n",
        "    history[\"SimpleCNN_color\"][\"accuracy\"].append(epoch_acc)\n",
        "\n",
        "    print(f\"Epoch {epoch+1}/{epochs} - Pérdida: {epoch_loss:.4f} - Accuracy: {epoch_acc:.4f}\")\n"
      ],
      "metadata": {
        "colab": {
          "base_uri": "https://localhost:8080/"
        },
        "outputId": "f4b52ea2-de62-4175-c403-c8440e32bf06",
        "id": "GTlh9pz7DeJy"
      },
      "execution_count": null,
      "outputs": [
        {
          "output_type": "stream",
          "name": "stdout",
          "text": [
            "Epoch 1/10 - Pérdida: 0.0146 - Accuracy: 0.9960\n",
            "Epoch 2/10 - Pérdida: 0.0291 - Accuracy: 0.9911\n",
            "Epoch 3/10 - Pérdida: 0.0203 - Accuracy: 0.9942\n",
            "Epoch 4/10 - Pérdida: 0.0050 - Accuracy: 0.9984\n",
            "Epoch 5/10 - Pérdida: 0.0041 - Accuracy: 0.9990\n",
            "Epoch 6/10 - Pérdida: 0.0010 - Accuracy: 0.9999\n",
            "Epoch 7/10 - Pérdida: 0.0009 - Accuracy: 0.9999\n",
            "Epoch 8/10 - Pérdida: 0.0002 - Accuracy: 1.0000\n",
            "Epoch 9/10 - Pérdida: 0.0001 - Accuracy: 1.0000\n",
            "Epoch 10/10 - Pérdida: 0.0001 - Accuracy: 1.0000\n"
          ]
        }
      ]
    },
    {
      "cell_type": "markdown",
      "source": [
        "PASO 5: Visualización de métricas del modelo base"
      ],
      "metadata": {
        "id": "v1EI021GJ28X"
      }
    },
    {
      "cell_type": "code",
      "source": [
        "# Gráficos de pérdida y precisión\n",
        "plt.figure(figsize=(12, 5))\n",
        "\n",
        "# Pérdida\n",
        "plt.subplot(1, 2, 1)\n",
        "plt.plot(history[\"SimpleCNN_color\"][\"loss\"], marker='o')\n",
        "plt.title(\"Pérdida por Época (SimpleCNN - Color)\")\n",
        "plt.xlabel(\"Época\")\n",
        "plt.ylabel(\"Pérdida\")\n",
        "plt.grid(True)\n",
        "\n",
        "# Precisión\n",
        "plt.subplot(1, 2, 2)\n",
        "plt.plot(history[\"SimpleCNN_color\"][\"accuracy\"], marker='o', color='green')\n",
        "plt.title(\"Precisión por Época (SimpleCNN - Color)\")\n",
        "plt.xlabel(\"Época\")\n",
        "plt.ylabel(\"Precisión\")\n",
        "plt.grid(True)\n",
        "\n",
        "plt.tight_layout()\n",
        "plt.show()\n"
      ],
      "metadata": {
        "colab": {
          "base_uri": "https://localhost:8080/",
          "height": 501
        },
        "id": "_EXOq0DaJ5tS",
        "outputId": "fb1a085b-19da-4166-a178-48e105a6efad"
      },
      "execution_count": null,
      "outputs": [
        {
          "output_type": "display_data",
          "data": {
            "text/plain": [
              "<Figure size 1200x500 with 2 Axes>"
            ],
            "image/png": "[encoded data removed]"
          },
          "metadata": {}
        }
      ]
    },
    {
      "cell_type": "markdown",
      "source": [
        "PASO 6: Función general train_model() para reutilizar"
      ],
      "metadata": {
        "id": "U2fgGjDhKoWv"
      }
    },
    {
      "cell_type": "code",
      "source": [
        "def train_model(model, train_loader, criterion, optimizer, epochs, device, label_hist):\n",
        "    history[label_hist] = {\"loss\": [], \"accuracy\": []}\n",
        "\n",
        "    for epoch in range(epochs):\n",
        "        running_loss = 0.0\n",
        "        correct = 0\n",
        "        total = 0\n",
        "\n",
        "        model.train()\n",
        "        for inputs, labels in train_loader:\n",
        "            inputs, labels = inputs.to(device), labels.to(device).float().unsqueeze(1)\n",
        "\n",
        "            optimizer.zero_grad()\n",
        "            outputs = model(inputs)\n",
        "            loss = criterion(outputs, labels)\n",
        "            loss.backward()\n",
        "            optimizer.step()\n",
        "\n",
        "            running_loss += loss.item()\n",
        "            predicted = (outputs > 0.5).float()\n",
        "            correct += (predicted == labels).sum().item()\n",
        "            total += labels.size(0)\n",
        "\n",
        "        epoch_loss = running_loss / len(train_loader)\n",
        "        epoch_acc = correct / total\n",
        "        history[label_hist][\"loss\"].append(epoch_loss)\n",
        "        history[label_hist][\"accuracy\"].append(epoch_acc)\n",
        "\n",
        "        print(f\"[{label_hist}] Epoch {epoch+1}/{epochs} - Loss: {epoch_loss:.4f} - Acc: {epoch_acc:.4f}\")\n"
      ],
      "metadata": {
        "id": "k6hEGPJiKty-"
      },
      "execution_count": null,
      "outputs": []
    },
    {
      "cell_type": "markdown",
      "source": [
        "PASO 7: Comparar con imágenes en escala de grises"
      ],
      "metadata": {
        "id": "zJqp6pkiLuL6"
      }
    },
    {
      "cell_type": "code",
      "source": [
        "# Transformación para imágenes en escala de grises\n",
        "transform_gray = transforms.Compose([\n",
        "    transforms.Grayscale(num_output_channels=1),\n",
        "    transforms.Resize((128, 128)),\n",
        "    transforms.ToTensor(),\n",
        "    transforms.Normalize([0.5], [0.5])  # solo 1 canal\n",
        "])\n",
        "\n",
        "# Dataset y DataLoader para imágenes en escala de grises\n",
        "train_dataset_gray = ImageFolder(root=train_dir, transform=transform_gray)\n",
        "train_loader_gray = DataLoader(train_dataset_gray, batch_size=32, shuffle=True)\n"
      ],
      "metadata": {
        "id": "YLwc3QR4LxSs"
      },
      "execution_count": null,
      "outputs": []
    },
    {
      "cell_type": "code",
      "source": [
        "#Nueva arquitectura: SimpleCNN_Gray con 1 canal de entrada\n",
        "class SimpleCNN_Gray(nn.Module):\n",
        "    def __init__(self):\n",
        "        super(SimpleCNN_Gray, self).__init__()\n",
        "        self.conv1 = nn.Conv2d(in_channels=1, out_channels=16, kernel_size=3, padding=1)\n",
        "        self.pool = nn.MaxPool2d(2, 2)\n",
        "        self.conv2 = nn.Conv2d(16, 32, 3, padding=1)\n",
        "        self.fc1 = nn.Linear(32 * 32 * 32, 128)\n",
        "        self.fc2 = nn.Linear(128, 1)\n",
        "\n",
        "    def forward(self, x):\n",
        "        x = self.pool(F.relu(self.conv1(x)))  # 128x128 -> 64x64\n",
        "        x = self.pool(F.relu(self.conv2(x)))  # 64x64 -> 32x32\n",
        "        x = x.view(-1, 32 * 32 * 32)\n",
        "        x = F.relu(self.fc1(x))\n",
        "        x = torch.sigmoid(self.fc2(x))\n",
        "        return x\n"
      ],
      "metadata": {
        "id": "HDa4Xye9MJk9"
      },
      "execution_count": null,
      "outputs": []
    },
    {
      "cell_type": "code",
      "source": [
        "#Enrtrenamos el nuevo DATALOADER\n",
        "model_gray = SimpleCNN_Gray().to(device)\n",
        "optimizer_gray = torch.optim.Adam(model_gray.parameters(), lr=0.001)\n",
        "criterion = nn.BCELoss()\n",
        "\n",
        "train_model(model_gray, train_loader_gray, criterion, optimizer_gray, epochs=10, device=device, label_hist=\"SimpleCNN_gray\")\n"
      ],
      "metadata": {
        "colab": {
          "base_uri": "https://localhost:8080/"
        },
        "id": "OOWlZaMwMQVz",
        "outputId": "495467dc-69fc-47da-bc88-e43744645174"
      },
      "execution_count": null,
      "outputs": [
        {
          "output_type": "stream",
          "name": "stdout",
          "text": [
            "[SimpleCNN_gray] Epoch 1/10 - Loss: 0.6922 - Acc: 0.5519\n",
            "[SimpleCNN_gray] Epoch 2/10 - Loss: 0.6254 - Acc: 0.6516\n",
            "[SimpleCNN_gray] Epoch 3/10 - Loss: 0.5378 - Acc: 0.7309\n",
            "[SimpleCNN_gray] Epoch 4/10 - Loss: 0.4412 - Acc: 0.7946\n",
            "[SimpleCNN_gray] Epoch 5/10 - Loss: 0.3417 - Acc: 0.8445\n",
            "[SimpleCNN_gray] Epoch 6/10 - Loss: 0.2309 - Acc: 0.9056\n",
            "[SimpleCNN_gray] Epoch 7/10 - Loss: 0.1166 - Acc: 0.9603\n",
            "[SimpleCNN_gray] Epoch 8/10 - Loss: 0.0519 - Acc: 0.9878\n",
            "[SimpleCNN_gray] Epoch 9/10 - Loss: 0.0192 - Acc: 0.9969\n",
            "[SimpleCNN_gray] Epoch 10/10 - Loss: 0.0045 - Acc: 1.0000\n"
          ]
        }
      ]
    },
    {
      "cell_type": "code",
      "source": [
        "# Comparación color vs grayscale\n",
        "plt.figure(figsize=(12, 5))\n",
        "\n",
        "# Pérdida\n",
        "plt.subplot(1, 2, 1)\n",
        "plt.plot(history[\"SimpleCNN_color\"][\"loss\"], label=\"Color\")\n",
        "plt.plot(history[\"SimpleCNN_gray\"][\"loss\"], label=\"Grayscale\")\n",
        "plt.title(\"Pérdida por Época\")\n",
        "plt.xlabel(\"Época\")\n",
        "plt.ylabel(\"Loss\")\n",
        "plt.legend()\n",
        "plt.grid(True)\n",
        "\n",
        "# Precisión\n",
        "plt.subplot(1, 2, 2)\n",
        "plt.plot(history[\"SimpleCNN_color\"][\"accuracy\"], label=\"Color\")\n",
        "plt.plot(history[\"SimpleCNN_gray\"][\"accuracy\"], label=\"Grayscale\")\n",
        "plt.title(\"Precisión por Época\")\n",
        "plt.xlabel(\"Época\")\n",
        "plt.ylabel(\"Accuracy\")\n",
        "plt.legend()\n",
        "plt.grid(True)\n",
        "\n",
        "plt.tight_layout()\n",
        "plt.show()\n"
      ],
      "metadata": {
        "colab": {
          "base_uri": "https://localhost:8080/",
          "height": 501
        },
        "id": "IW6UlCE7MTj_",
        "outputId": "d297e510-c3ad-484d-fb31-f1c8ff57ced9"
      },
      "execution_count": null,
      "outputs": [
        {
          "output_type": "display_data",
          "data": {
            "text/plain": [
              "<Figure size 1200x500 with 2 Axes>"
            ],
            "image/png": "[encoded data removed]"
          },
          "metadata": {}
        }
      ]
    },
    {
      "cell_type": "markdown",
      "source": [
        "PASO 8: Regularización con Dropout"
      ],
      "metadata": {
        "id": "klJpHFalRX6X"
      }
    },
    {
      "cell_type": "code",
      "source": [
        "#Definimos una CNN con Dropout\n",
        "class CNN_Dropout(nn.Module):\n",
        "    def __init__(self):\n",
        "        super(CNN_Dropout, self).__init__()\n",
        "        self.conv1 = nn.Conv2d(3, 16, kernel_size=3, padding=1)\n",
        "        self.pool = nn.MaxPool2d(2, 2)\n",
        "        self.conv2 = nn.Conv2d(16, 32, kernel_size=3, padding=1)\n",
        "        self.dropout = nn.Dropout(0.5)\n",
        "        self.fc1 = nn.Linear(32 * 32 * 32, 128)\n",
        "        self.fc2 = nn.Linear(128, 1)\n",
        "\n",
        "    def forward(self, x):\n",
        "        x = self.pool(F.relu(self.conv1(x)))     # 128x128 -> 64x64\n",
        "        x = self.pool(F.relu(self.conv2(x)))     # 64x64 -> 32x32\n",
        "        x = x.view(-1, 32 * 32 * 32)\n",
        "        x = self.dropout(F.relu(self.fc1(x)))    # Aplicamos Dropout\n",
        "        x = torch.sigmoid(self.fc2(x))\n",
        "        return x\n"
      ],
      "metadata": {
        "id": "_qwjX2hEReRp"
      },
      "execution_count": null,
      "outputs": []
    },
    {
      "cell_type": "code",
      "source": [
        "#Entrenamos el modelo\n",
        "model_dropout = CNN_Dropout().to(device)\n",
        "optimizer_dropout = torch.optim.Adam(model_dropout.parameters(), lr=0.001)\n",
        "\n",
        "train_model(model_dropout, train_loader, criterion, optimizer_dropout, epochs=10, device=device, label_hist=\"CNN_Dropout_color\")\n"
      ],
      "metadata": {
        "colab": {
          "base_uri": "https://localhost:8080/"
        },
        "id": "1_Fl8rSmRwBy",
        "outputId": "f7f3702d-d89c-44ae-fd6e-5ed19fead173"
      },
      "execution_count": null,
      "outputs": [
        {
          "output_type": "stream",
          "name": "stdout",
          "text": [
            "[CNN_Dropout_color] Epoch 1/10 - Loss: 0.6350 - Acc: 0.6385\n",
            "[CNN_Dropout_color] Epoch 2/10 - Loss: 0.5229 - Acc: 0.7459\n",
            "[CNN_Dropout_color] Epoch 3/10 - Loss: 0.4316 - Acc: 0.8050\n",
            "[CNN_Dropout_color] Epoch 4/10 - Loss: 0.3538 - Acc: 0.8452\n",
            "[CNN_Dropout_color] Epoch 5/10 - Loss: 0.2688 - Acc: 0.8851\n",
            "[CNN_Dropout_color] Epoch 6/10 - Loss: 0.1887 - Acc: 0.9237\n",
            "[CNN_Dropout_color] Epoch 7/10 - Loss: 0.1321 - Acc: 0.9506\n",
            "[CNN_Dropout_color] Epoch 8/10 - Loss: 0.0904 - Acc: 0.9664\n",
            "[CNN_Dropout_color] Epoch 9/10 - Loss: 0.0746 - Acc: 0.9736\n",
            "[CNN_Dropout_color] Epoch 10/10 - Loss: 0.0554 - Acc: 0.9795\n"
          ]
        }
      ]
    },
    {
      "cell_type": "code",
      "source": [
        "#Comparamos con el modelo Base\n",
        "# Comparación con Dropout\n",
        "plt.figure(figsize=(12, 5))\n",
        "\n",
        "# Pérdida\n",
        "plt.subplot(1, 2, 1)\n",
        "plt.plot(history[\"SimpleCNN_color\"][\"loss\"], label=\"Base (Color)\")\n",
        "plt.plot(history[\"CNN_Dropout_color\"][\"loss\"], label=\"Dropout\")\n",
        "plt.title(\"Pérdida por Época\")\n",
        "plt.xlabel(\"Epoch\")\n",
        "plt.ylabel(\"Loss\")\n",
        "plt.legend()\n",
        "plt.grid(True)\n",
        "\n",
        "# Precisión\n",
        "plt.subplot(1, 2, 2)\n",
        "plt.plot(history[\"SimpleCNN_color\"][\"accuracy\"], label=\"Base (Color)\")\n",
        "plt.plot(history[\"CNN_Dropout_color\"][\"accuracy\"], label=\"Dropout\")\n",
        "plt.title(\"Precisión por Epoch\")\n",
        "plt.xlabel(\"Epoch\")\n",
        "plt.ylabel(\"Accuracy\")\n",
        "plt.legend()\n",
        "plt.grid(True)\n",
        "\n",
        "plt.tight_layout()\n",
        "plt.show()\n"
      ],
      "metadata": {
        "colab": {
          "base_uri": "https://localhost:8080/",
          "height": 501
        },
        "id": "eLFqrtJrRyfN",
        "outputId": "3bfb231a-89ff-47fb-caf4-43dad55e6c02"
      },
      "execution_count": null,
      "outputs": [
        {
          "output_type": "display_data",
          "data": {
            "text/plain": [
              "<Figure size 1200x500 with 2 Axes>"
            ],
            "image/png": "[encoded data removed]"
          },
          "metadata": {}
        }
      ]
    },
    {
      "cell_type": "markdown",
      "source": [
        " PASO 9: Regularización con BatchNorm"
      ],
      "metadata": {
        "id": "LJtcdsvQXNp8"
      }
    },
    {
      "cell_type": "code",
      "source": [
        "# Ahora vamos con CNN BatchNorm\n",
        "class CNN_BatchNorm(nn.Module):\n",
        "    def __init__(self):\n",
        "        super(CNN_BatchNorm, self).__init__()\n",
        "        self.conv1 = nn.Conv2d(3, 16, kernel_size=3, padding=1)\n",
        "        self.bn1 = nn.BatchNorm2d(16)\n",
        "        self.pool = nn.MaxPool2d(2, 2)\n",
        "\n",
        "        self.conv2 = nn.Conv2d(16, 32, kernel_size=3, padding=1)\n",
        "        self.bn2 = nn.BatchNorm2d(32)\n",
        "\n",
        "        self.fc1 = nn.Linear(32 * 32 * 32, 128)\n",
        "        self.fc2 = nn.Linear(128, 1)\n",
        "\n",
        "    def forward(self, x):\n",
        "        x = self.pool(F.relu(self.bn1(self.conv1(x))))  # 128x128 -> 64x64\n",
        "        x = self.pool(F.relu(self.bn2(self.conv2(x))))  # 64x64 -> 32x32\n",
        "        x = x.view(-1, 32 * 32 * 32)\n",
        "        x = F.relu(self.fc1(x))\n",
        "        x = torch.sigmoid(self.fc2(x))\n",
        "        return x\n"
      ],
      "metadata": {
        "id": "-rg24ql8XSWC"
      },
      "execution_count": null,
      "outputs": []
    },
    {
      "cell_type": "code",
      "source": [
        "#Entrenamos el modelo\n",
        "model_bn = CNN_BatchNorm().to(device)\n",
        "optimizer_bn = torch.optim.Adam(model_bn.parameters(), lr=0.001)\n",
        "\n",
        "train_model(model_bn, train_loader, criterion, optimizer_bn, epochs=10, device=device, label_hist=\"CNN_BatchNorm_color\")\n"
      ],
      "metadata": {
        "colab": {
          "base_uri": "https://localhost:8080/"
        },
        "id": "92FHVmdwXhtM",
        "outputId": "cbb236f8-6c8c-46dd-ddcf-da2d5aa7fe66"
      },
      "execution_count": null,
      "outputs": [
        {
          "output_type": "stream",
          "name": "stdout",
          "text": [
            "[CNN_BatchNorm_color] Epoch 1/10 - Loss: 49.8404 - Acc: 0.4991\n",
            "[CNN_BatchNorm_color] Epoch 2/10 - Loss: 50.0000 - Acc: 0.5000\n",
            "[CNN_BatchNorm_color] Epoch 3/10 - Loss: 50.0000 - Acc: 0.5000\n",
            "[CNN_BatchNorm_color] Epoch 4/10 - Loss: 50.0000 - Acc: 0.5000\n",
            "[CNN_BatchNorm_color] Epoch 5/10 - Loss: 50.0000 - Acc: 0.5000\n",
            "[CNN_BatchNorm_color] Epoch 6/10 - Loss: 50.0000 - Acc: 0.5000\n",
            "[CNN_BatchNorm_color] Epoch 7/10 - Loss: 50.0000 - Acc: 0.5000\n",
            "[CNN_BatchNorm_color] Epoch 8/10 - Loss: 50.0000 - Acc: 0.5000\n",
            "[CNN_BatchNorm_color] Epoch 9/10 - Loss: 50.0000 - Acc: 0.5000\n",
            "[CNN_BatchNorm_color] Epoch 10/10 - Loss: 50.0000 - Acc: 0.5000\n"
          ]
        }
      ]
    }
  ]
}