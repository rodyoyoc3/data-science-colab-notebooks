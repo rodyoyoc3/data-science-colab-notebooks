{
  "nbformat": 4,
  "nbformat_minor": 0,
  "metadata": {
    "colab": {
      "provenance": []
    },
    "kernelspec": {
      "name": "python3",
      "display_name": "Python 3"
    },
    "language_info": {
      "name": "python"
    },
    "widgets": {
      "application/vnd.jupyter.widget-state+json": {
        "782759dc753041988d3c5ab0ddc1b322": {
          "model_module": "@jupyter-widgets/controls",
          "model_name": "TextareaModel",
          "model_module_version": "1.5.0",
          "state": {
            "_dom_classes": [],
            "_model_module": "@jupyter-widgets/controls",
            "_model_module_version": "1.5.0",
            "_model_name": "TextareaModel",
            "_view_count": null,
            "_view_module": "@jupyter-widgets/controls",
            "_view_module_version": "1.5.0",
            "_view_name": "TextareaView",
            "continuous_update": true,
            "description": "Reseñas:",
            "description_tooltip": null,
            "disabled": false,
            "layout": "IPY_MODEL_e4f0f52519dc4203aeac9ac6fcd4ed3d",
            "placeholder": "Type something",
            "rows": null,
            "style": "IPY_MODEL_cef3ade7204642ea9d898ba74418864a",
            "value": "Paste each review here, one per line..."
          }
        },
        "e4f0f52519dc4203aeac9ac6fcd4ed3d": {
          "model_module": "@jupyter-widgets/base",
          "model_name": "LayoutModel",
          "model_module_version": "1.2.0",
          "state": {
            "_model_module": "@jupyter-widgets/base",
            "_model_module_version": "1.2.0",
            "_model_name": "LayoutModel",
            "_view_count": null,
            "_view_module": "@jupyter-widgets/base",
            "_view_module_version": "1.2.0",
            "_view_name": "LayoutView",
            "align_content": null,
            "align_items": null,
            "align_self": null,
            "border": null,
            "bottom": null,
            "display": null,
            "flex": null,
            "flex_flow": null,
            "grid_area": null,
            "grid_auto_columns": null,
            "grid_auto_flow": null,
            "grid_auto_rows": null,
            "grid_column": null,
            "grid_gap": null,
            "grid_row": null,
            "grid_template_areas": null,
            "grid_template_columns": null,
            "grid_template_rows": null,
            "height": "300px",
            "justify_content": null,
            "justify_items": null,
            "left": null,
            "margin": null,
            "max_height": null,
            "max_width": null,
            "min_height": null,
            "min_width": null,
            "object_fit": null,
            "object_position": null,
            "order": null,
            "overflow": null,
            "overflow_x": null,
            "overflow_y": null,
            "padding": null,
            "right": null,
            "top": null,
            "visibility": null,
            "width": "100%"
          }
        },
        "cef3ade7204642ea9d898ba74418864a": {
          "model_module": "@jupyter-widgets/controls",
          "model_name": "DescriptionStyleModel",
          "model_module_version": "1.5.0",
          "state": {
            "_model_module": "@jupyter-widgets/controls",
            "_model_module_version": "1.5.0",
            "_model_name": "DescriptionStyleModel",
            "_view_count": null,
            "_view_module": "@jupyter-widgets/base",
            "_view_module_version": "1.2.0",
            "_view_name": "StyleView",
            "description_width": ""
          }
        },
        "701dc2f9b6024a93b41ee666eac3f1ec": {
          "model_module": "@jupyter-widgets/controls",
          "model_name": "ButtonModel",
          "model_module_version": "1.5.0",
          "state": {
            "_dom_classes": [],
            "_model_module": "@jupyter-widgets/controls",
            "_model_module_version": "1.5.0",
            "_model_name": "ButtonModel",
            "_view_count": null,
            "_view_module": "@jupyter-widgets/controls",
            "_view_module_version": "1.5.0",
            "_view_name": "ButtonView",
            "button_style": "",
            "description": "Analizar",
            "disabled": false,
            "icon": "",
            "layout": "IPY_MODEL_c79537dc81be4a98bb0b9675dba71256",
            "style": "IPY_MODEL_ca8aa3f438c549e19c074125d18b1e6b",
            "tooltip": ""
          }
        },
        "c79537dc81be4a98bb0b9675dba71256": {
          "model_module": "@jupyter-widgets/base",
          "model_name": "LayoutModel",
          "model_module_version": "1.2.0",
          "state": {
            "_model_module": "@jupyter-widgets/base",
            "_model_module_version": "1.2.0",
            "_model_name": "LayoutModel",
            "_view_count": null,
            "_view_module": "@jupyter-widgets/base",
            "_view_module_version": "1.2.0",
            "_view_name": "LayoutView",
            "align_content": null,
            "align_items": null,
            "align_self": null,
            "border": null,
            "bottom": null,
            "display": null,
            "flex": null,
            "flex_flow": null,
            "grid_area": null,
            "grid_auto_columns": null,
            "grid_auto_flow": null,
            "grid_auto_rows": null,
            "grid_column": null,
            "grid_gap": null,
            "grid_row": null,
            "grid_template_areas": null,
            "grid_template_columns": null,
            "grid_template_rows": null,
            "height": null,
            "justify_content": null,
            "justify_items": null,
            "left": null,
            "margin": null,
            "max_height": null,
            "max_width": null,
            "min_height": null,
            "min_width": null,
            "object_fit": null,
            "object_position": null,
            "order": null,
            "overflow": null,
            "overflow_x": null,
            "overflow_y": null,
            "padding": null,
            "right": null,
            "top": null,
            "visibility": null,
            "width": null
          }
        },
        "ca8aa3f438c549e19c074125d18b1e6b": {
          "model_module": "@jupyter-widgets/controls",
          "model_name": "ButtonStyleModel",
          "model_module_version": "1.5.0",
          "state": {
            "_model_module": "@jupyter-widgets/controls",
            "_model_module_version": "1.5.0",
            "_model_name": "ButtonStyleModel",
            "_view_count": null,
            "_view_module": "@jupyter-widgets/base",
            "_view_module_version": "1.2.0",
            "_view_name": "StyleView",
            "button_color": null,
            "font_weight": ""
          }
        },
        "4f75b5939a86406bbfe5b15d8daf58ce": {
          "model_module": "@jupyter-widgets/output",
          "model_name": "OutputModel",
          "model_module_version": "1.0.0",
          "state": {
            "_dom_classes": [],
            "_model_module": "@jupyter-widgets/output",
            "_model_module_version": "1.0.0",
            "_model_name": "OutputModel",
            "_view_count": null,
            "_view_module": "@jupyter-widgets/output",
            "_view_module_version": "1.0.0",
            "_view_name": "OutputView",
            "layout": "IPY_MODEL_e64ed179141b4916afd67c0ec7c0d8bd",
            "msg_id": "",
            "outputs": []
          }
        },
        "e64ed179141b4916afd67c0ec7c0d8bd": {
          "model_module": "@jupyter-widgets/base",
          "model_name": "LayoutModel",
          "model_module_version": "1.2.0",
          "state": {
            "_model_module": "@jupyter-widgets/base",
            "_model_module_version": "1.2.0",
            "_model_name": "LayoutModel",
            "_view_count": null,
            "_view_module": "@jupyter-widgets/base",
            "_view_module_version": "1.2.0",
            "_view_name": "LayoutView",
            "align_content": null,
            "align_items": null,
            "align_self": null,
            "border": null,
            "bottom": null,
            "display": null,
            "flex": null,
            "flex_flow": null,
            "grid_area": null,
            "grid_auto_columns": null,
            "grid_auto_flow": null,
            "grid_auto_rows": null,
            "grid_column": null,
            "grid_gap": null,
            "grid_row": null,
            "grid_template_areas": null,
            "grid_template_columns": null,
            "grid_template_rows": null,
            "height": null,
            "justify_content": null,
            "justify_items": null,
            "left": null,
            "margin": null,
            "max_height": null,
            "max_width": null,
            "min_height": null,
            "min_width": null,
            "object_fit": null,
            "object_position": null,
            "order": null,
            "overflow": null,
            "overflow_x": null,
            "overflow_y": null,
            "padding": null,
            "right": null,
            "top": null,
            "visibility": null,
            "width": null
          }
        }
      }
    }
  },
  "cells": [
    {
      "cell_type": "markdown",
      "source": [
        "EJERCICIO PARA CATEGORIZAR OPINIONES"
      ],
      "metadata": {
        "id": "sG5NXjRi4dDe"
      }
    },
    {
      "cell_type": "code",
      "source": [
        "# ✅ Instalar librerías necesarias\n",
        "!pip install -q nltk wordcloud matplotlib\n",
        "\n",
        "# ✅ Importar librerías\n",
        "import nltk\n",
        "import matplotlib.pyplot as plt\n",
        "from nltk.sentiment import SentimentIntensityAnalyzer\n",
        "from wordcloud import WordCloud, STOPWORDS\n",
        "import pandas as pd\n",
        "from IPython.display import display\n",
        "import ipywidgets as widgets\n",
        "\n",
        "# ✅ Descargar recursos de NLTK\n",
        "nltk.download('vader_lexicon')\n",
        "\n",
        "# ✅ Crear una caja de texto para que el usuario pegue reseñas\n",
        "text_box = widgets.Textarea(\n",
        "    value='Paste each review here, one per line...',\n",
        "    placeholder='Type something',\n",
        "    description='Reseñas:',\n",
        "    layout=widgets.Layout(width='100%', height='300px')\n",
        ")\n",
        "\n",
        "button = widgets.Button(description=\"Analizar\")\n",
        "output = widgets.Output()\n",
        "\n",
        "display(text_box, button, output)\n",
        "\n",
        "# ✅ Función de análisis al hacer clic\n",
        "def on_button_click(b):\n",
        "    output.clear_output()\n",
        "    reviews_raw = text_box.value.strip().split('\\n')\n",
        "    if len(reviews_raw) < 1:\n",
        "        with output:\n",
        "            print(\"⚠️ Debes ingresar al menos una reseña.\")\n",
        "        return\n",
        "\n",
        "    sia = SentimentIntensityAnalyzer()\n",
        "    datos = []\n",
        "\n",
        "    for review in reviews_raw:\n",
        "        score = sia.polarity_scores(review)\n",
        "        compound = score['compound']\n",
        "        if compound >= 0.05:\n",
        "            sentimiento = 'Positivo'\n",
        "        elif compound <= -0.05:\n",
        "            sentimiento = 'Negativo'\n",
        "        else:\n",
        "            sentimiento = 'Neutral'\n",
        "        datos.append({'Reseña': review, 'Compound': compound, 'Sentimiento': sentimiento})\n",
        "\n",
        "    df = pd.DataFrame(datos)\n",
        "\n",
        "    # ✅ Mostrar tabla\n",
        "    with output:\n",
        "        display(df)\n",
        "\n",
        "        # 📊 Gráfico de barras de sentimiento\n",
        "        plt.figure(figsize=(6, 4))\n",
        "        df['Sentimiento'].value_counts().plot(kind='bar', color='skyblue')\n",
        "        plt.title('Distribución de Sentimientos')\n",
        "        plt.ylabel('Cantidad')\n",
        "        plt.xticks(rotation=0)\n",
        "        plt.grid(axis='y')\n",
        "        plt.show()\n",
        "\n",
        "        # ☁️ Nube de palabras por sentimiento\n",
        "        for sentimiento in ['Positivo', 'Neutral', 'Negativo']:\n",
        "            textos = \" \".join(df[df['Sentimiento'] == sentimiento]['Reseña'].values)\n",
        "            if textos.strip():\n",
        "                wc = WordCloud(width=600, height=300, background_color='white',\n",
        "                               stopwords=STOPWORDS).generate(textos)\n",
        "                plt.figure(figsize=(7, 4))\n",
        "                plt.imshow(wc, interpolation='bilinear')\n",
        "                plt.axis('off')\n",
        "                plt.title(f'Nube de palabras - {sentimiento}')\n",
        "                plt.show()\n",
        "\n",
        "button.on_click(on_button_click)\n"
      ],
      "metadata": {
        "colab": {
          "base_uri": "https://localhost:8080/",
          "height": 390,
          "referenced_widgets": [
            "782759dc753041988d3c5ab0ddc1b322",
            "e4f0f52519dc4203aeac9ac6fcd4ed3d",
            "cef3ade7204642ea9d898ba74418864a",
            "701dc2f9b6024a93b41ee666eac3f1ec",
            "c79537dc81be4a98bb0b9675dba71256",
            "ca8aa3f438c549e19c074125d18b1e6b",
            "4f75b5939a86406bbfe5b15d8daf58ce",
            "e64ed179141b4916afd67c0ec7c0d8bd"
          ]
        },
        "id": "1fGRZ7eA4hUX",
        "outputId": "502569f5-0878-48d1-ef8e-4af70955a777"
      },
      "execution_count": null,
      "outputs": [
        {
          "output_type": "stream",
          "name": "stderr",
          "text": [
            "[nltk_data] Downloading package vader_lexicon to /root/nltk_data...\n"
          ]
        },
        {
          "output_type": "display_data",
          "data": {
            "text/plain": [
              "Textarea(value='Paste each review here, one per line...', description='Reseñas:', layout=Layout(height='300px'…"
            ],
            "application/vnd.jupyter.widget-view+json": {
              "version_major": 2,
              "version_minor": 0,
              "model_id": "782759dc753041988d3c5ab0ddc1b322"
            }
          },
          "metadata": {}
        },
        {
          "output_type": "display_data",
          "data": {
            "text/plain": [
              "Button(description='Analizar', style=ButtonStyle())"
            ],
            "application/vnd.jupyter.widget-view+json": {
              "version_major": 2,
              "version_minor": 0,
              "model_id": "701dc2f9b6024a93b41ee666eac3f1ec"
            }
          },
          "metadata": {}
        },
        {
          "output_type": "display_data",
          "data": {
            "text/plain": [
              "Output()"
            ],
            "application/vnd.jupyter.widget-view+json": {
              "version_major": 2,
              "version_minor": 0,
              "model_id": "4f75b5939a86406bbfe5b15d8daf58ce"
            }
          },
          "metadata": {}
        }
      ]
    }
  ]
}