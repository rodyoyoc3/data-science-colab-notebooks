{
  "cells": [
    {
      "cell_type": "markdown",
      "id": "04482b4c",
      "metadata": {
        "id": "04482b4c"
      },
      "source": [
        "# Comparación de documentos usando TF-IDF y Word2Vec en Español"
      ]
    },
    {
      "cell_type": "markdown",
      "id": "f9fa4285",
      "metadata": {
        "id": "f9fa4285"
      },
      "source": [
        "Este notebook permite subir dos archivos de texto `.txt`, calcular su similitud usando dos enfoques:\n",
        "- TF-IDF + Cosine Similarity\n",
        "- Word2Vec + Cosine Similarity\n",
        "\n",
        "Incluye comentarios para uso académico y es compatible con Google Colab."
      ]
    },
    {
      "cell_type": "code",
      "execution_count": null,
      "id": "2818bc5b",
      "metadata": {
        "colab": {
          "base_uri": "https://localhost:8080/",
          "height": 106
        },
        "id": "2818bc5b",
        "outputId": "f5ad8dde-749a-47b2-eb7c-454fb9da67e5"
      },
      "outputs": [
        {
          "output_type": "display_data",
          "data": {
            "text/plain": [
              "<IPython.core.display.HTML object>"
            ],
            "text/html": [
              "\n",
              "     <input type=\"file\" id=\"files-b89594c1-1670-41c9-b22b-6e5ce70cbc12\" name=\"files[]\" multiple disabled\n",
              "        style=\"border:none\" />\n",
              "     <output id=\"result-b89594c1-1670-41c9-b22b-6e5ce70cbc12\">\n",
              "      Upload widget is only available when the cell has been executed in the\n",
              "      current browser session. Please rerun this cell to enable.\n",
              "      </output>\n",
              "      <script>// Copyright 2017 Google LLC\n",
              "//\n",
              "// Licensed under the Apache License, Version 2.0 (the \"License\");\n",
              "// you may not use this file except in compliance with the License.\n",
              "// You may obtain a copy of the License at\n",
              "//\n",
              "//      http://www.apache.org/licenses/LICENSE-2.0\n",
              "//\n",
              "// Unless required by applicable law or agreed to in writing, software\n",
              "// distributed under the License is distributed on an \"AS IS\" BASIS,\n",
              "// WITHOUT WARRANTIES OR CONDITIONS OF ANY KIND, either express or implied.\n",
              "// See the License for the specific language governing permissions and\n",
              "// limitations under the License.\n",
              "\n",
              "/**\n",
              " * @fileoverview Helpers for google.colab Python module.\n",
              " */\n",
              "(function(scope) {\n",
              "function span(text, styleAttributes = {}) {\n",
              "  const element = document.createElement('span');\n",
              "  element.textContent = text;\n",
              "  for (const key of Object.keys(styleAttributes)) {\n",
              "    element.style[key] = styleAttributes[key];\n",
              "  }\n",
              "  return element;\n",
              "}\n",
              "\n",
              "// Max number of bytes which will be uploaded at a time.\n",
              "const MAX_PAYLOAD_SIZE = 100 * 1024;\n",
              "\n",
              "function _uploadFiles(inputId, outputId) {\n",
              "  const steps = uploadFilesStep(inputId, outputId);\n",
              "  const outputElement = document.getElementById(outputId);\n",
              "  // Cache steps on the outputElement to make it available for the next call\n",
              "  // to uploadFilesContinue from Python.\n",
              "  outputElement.steps = steps;\n",
              "\n",
              "  return _uploadFilesContinue(outputId);\n",
              "}\n",
              "\n",
              "// This is roughly an async generator (not supported in the browser yet),\n",
              "// where there are multiple asynchronous steps and the Python side is going\n",
              "// to poll for completion of each step.\n",
              "// This uses a Promise to block the python side on completion of each step,\n",
              "// then passes the result of the previous step as the input to the next step.\n",
              "function _uploadFilesContinue(outputId) {\n",
              "  const outputElement = document.getElementById(outputId);\n",
              "  const steps = outputElement.steps;\n",
              "\n",
              "  const next = steps.next(outputElement.lastPromiseValue);\n",
              "  return Promise.resolve(next.value.promise).then((value) => {\n",
              "    // Cache the last promise value to make it available to the next\n",
              "    // step of the generator.\n",
              "    outputElement.lastPromiseValue = value;\n",
              "    return next.value.response;\n",
              "  });\n",
              "}\n",
              "\n",
              "/**\n",
              " * Generator function which is called between each async step of the upload\n",
              " * process.\n",
              " * @param {string} inputId Element ID of the input file picker element.\n",
              " * @param {string} outputId Element ID of the output display.\n",
              " * @return {!Iterable<!Object>} Iterable of next steps.\n",
              " */\n",
              "function* uploadFilesStep(inputId, outputId) {\n",
              "  const inputElement = document.getElementById(inputId);\n",
              "  inputElement.disabled = false;\n",
              "\n",
              "  const outputElement = document.getElementById(outputId);\n",
              "  outputElement.innerHTML = '';\n",
              "\n",
              "  const pickedPromise = new Promise((resolve) => {\n",
              "    inputElement.addEventListener('change', (e) => {\n",
              "      resolve(e.target.files);\n",
              "    });\n",
              "  });\n",
              "\n",
              "  const cancel = document.createElement('button');\n",
              "  inputElement.parentElement.appendChild(cancel);\n",
              "  cancel.textContent = 'Cancel upload';\n",
              "  const cancelPromise = new Promise((resolve) => {\n",
              "    cancel.onclick = () => {\n",
              "      resolve(null);\n",
              "    };\n",
              "  });\n",
              "\n",
              "  // Wait for the user to pick the files.\n",
              "  const files = yield {\n",
              "    promise: Promise.race([pickedPromise, cancelPromise]),\n",
              "    response: {\n",
              "      action: 'starting',\n",
              "    }\n",
              "  };\n",
              "\n",
              "  cancel.remove();\n",
              "\n",
              "  // Disable the input element since further picks are not allowed.\n",
              "  inputElement.disabled = true;\n",
              "\n",
              "  if (!files) {\n",
              "    return {\n",
              "      response: {\n",
              "        action: 'complete',\n",
              "      }\n",
              "    };\n",
              "  }\n",
              "\n",
              "  for (const file of files) {\n",
              "    const li = document.createElement('li');\n",
              "    li.append(span(file.name, {fontWeight: 'bold'}));\n",
              "    li.append(span(\n",
              "        `(${file.type || 'n/a'}) - ${file.size} bytes, ` +\n",
              "        `last modified: ${\n",
              "            file.lastModifiedDate ? file.lastModifiedDate.toLocaleDateString() :\n",
              "                                    'n/a'} - `));\n",
              "    const percent = span('0% done');\n",
              "    li.appendChild(percent);\n",
              "\n",
              "    outputElement.appendChild(li);\n",
              "\n",
              "    const fileDataPromise = new Promise((resolve) => {\n",
              "      const reader = new FileReader();\n",
              "      reader.onload = (e) => {\n",
              "        resolve(e.target.result);\n",
              "      };\n",
              "      reader.readAsArrayBuffer(file);\n",
              "    });\n",
              "    // Wait for the data to be ready.\n",
              "    let fileData = yield {\n",
              "      promise: fileDataPromise,\n",
              "      response: {\n",
              "        action: 'continue',\n",
              "      }\n",
              "    };\n",
              "\n",
              "    // Use a chunked sending to avoid message size limits. See b/62115660.\n",
              "    let position = 0;\n",
              "    do {\n",
              "      const length = Math.min(fileData.byteLength - position, MAX_PAYLOAD_SIZE);\n",
              "      const chunk = new Uint8Array(fileData, position, length);\n",
              "      position += length;\n",
              "\n",
              "      const base64 = btoa(String.fromCharCode.apply(null, chunk));\n",
              "      yield {\n",
              "        response: {\n",
              "          action: 'append',\n",
              "          file: file.name,\n",
              "          data: base64,\n",
              "        },\n",
              "      };\n",
              "\n",
              "      let percentDone = fileData.byteLength === 0 ?\n",
              "          100 :\n",
              "          Math.round((position / fileData.byteLength) * 100);\n",
              "      percent.textContent = `${percentDone}% done`;\n",
              "\n",
              "    } while (position < fileData.byteLength);\n",
              "  }\n",
              "\n",
              "  // All done.\n",
              "  yield {\n",
              "    response: {\n",
              "      action: 'complete',\n",
              "    }\n",
              "  };\n",
              "}\n",
              "\n",
              "scope.google = scope.google || {};\n",
              "scope.google.colab = scope.google.colab || {};\n",
              "scope.google.colab._files = {\n",
              "  _uploadFiles,\n",
              "  _uploadFilesContinue,\n",
              "};\n",
              "})(self);\n",
              "</script> "
            ]
          },
          "metadata": {}
        },
        {
          "output_type": "stream",
          "name": "stdout",
          "text": [
            "Saving documento1.txt to documento1.txt\n",
            "Saving documento2.txt to documento2.txt\n"
          ]
        }
      ],
      "source": [
        "#!pip install gensim nltk scikit-learn\n",
        "from google.colab import files\n",
        "uploaded = files.upload()  # Subir documento1.txt y documento2.txt\n"
      ]
    },
    {
      "cell_type": "code",
      "execution_count": null,
      "id": "fc99fa45",
      "metadata": {
        "colab": {
          "base_uri": "https://localhost:8080/"
        },
        "id": "fc99fa45",
        "outputId": "800be71d-8d78-4d75-a4b8-8f253cbba132"
      },
      "outputs": [
        {
          "output_type": "stream",
          "name": "stdout",
          "text": [
            "Documento 1: La inteligencia artificial (IA) está revolucionando diversos sectores, desde la salud hasta la educación. \n",
            "Las empresas están utilizando IA para autom ...\n",
            "Documento 2: El cambio climático representa una amenaza global que requiere atención inmediata. \n",
            "Los fenómenos naturales extremos son cada vez más frecuentes e int ...\n"
          ]
        }
      ],
      "source": [
        "doc1 = open(\"documento1.txt\", encoding=\"utf-8\").read()\n",
        "doc2 = open(\"documento2.txt\", encoding=\"utf-8\").read()\n",
        "print(\"Documento 1:\", doc1[:150], \"...\")\n",
        "print(\"Documento 2:\", doc2[:150], \"...\")"
      ]
    },
    {
      "cell_type": "code",
      "execution_count": null,
      "id": "4db4c91b",
      "metadata": {
        "colab": {
          "base_uri": "https://localhost:8080/"
        },
        "id": "4db4c91b",
        "outputId": "27c046f5-c04b-4615-c0d5-e326287dc5d6"
      },
      "outputs": [
        {
          "output_type": "stream",
          "name": "stderr",
          "text": [
            "[nltk_data] Downloading package stopwords to /root/nltk_data...\n",
            "[nltk_data]   Unzipping corpora/stopwords.zip.\n",
            "[nltk_data] Downloading package punkt_tab to /root/nltk_data...\n",
            "[nltk_data]   Unzipping tokenizers/punkt_tab.zip.\n"
          ]
        }
      ],
      "source": [
        "\n",
        "import re\n",
        "import nltk\n",
        "nltk.download(\"stopwords\")\n",
        "nltk.download('punkt_tab')\n",
        "from nltk.corpus import stopwords\n",
        "from nltk.tokenize import word_tokenize\n",
        "\n",
        "stopwords_es = set(stopwords.words('spanish'))\n",
        "\n",
        "def limpiar_texto(texto):\n",
        "    texto = texto.lower()\n",
        "    texto = re.sub(r'[^\\w\\s]', '', texto)\n",
        "    tokens = word_tokenize(texto)\n",
        "    tokens = [t for t in tokens if t not in stopwords_es and len(t) > 2]\n",
        "    return tokens\n",
        "\n",
        "tokens1 = limpiar_texto(doc1)\n",
        "tokens2 = limpiar_texto(doc2)"
      ]
    },
    {
      "cell_type": "markdown",
      "id": "70ddcfda",
      "metadata": {
        "id": "70ddcfda"
      },
      "source": [
        "## Similitud con TF-IDF"
      ]
    },
    {
      "cell_type": "code",
      "execution_count": null,
      "id": "d104b63c",
      "metadata": {
        "colab": {
          "base_uri": "https://localhost:8080/"
        },
        "id": "d104b63c",
        "outputId": "4178393b-b422-4449-8069-c90b17603a55"
      },
      "outputs": [
        {
          "output_type": "stream",
          "name": "stdout",
          "text": [
            "Similitud TF-IDF: 0.0562\n"
          ]
        }
      ],
      "source": [
        "from sklearn.feature_extraction.text import TfidfVectorizer\n",
        "from sklearn.metrics.pairwise import cosine_similarity\n",
        "\n",
        "tfidf = TfidfVectorizer()\n",
        "X = tfidf.fit_transform([\" \".join(tokens1), \" \".join(tokens2)])\n",
        "sim_tfidf = cosine_similarity(X[0:1], X[1:2])\n",
        "print(f\"Similitud TF-IDF: {sim_tfidf[0][0]:.4f}\")"
      ]
    },
    {
      "cell_type": "markdown",
      "id": "2926b8a2",
      "metadata": {
        "id": "2926b8a2"
      },
      "source": [
        "## Similitud con Word2Vec (modelo preentrenado en español)"
      ]
    },
    {
      "cell_type": "code",
      "execution_count": null,
      "id": "c2701e21",
      "metadata": {
        "colab": {
          "base_uri": "https://localhost:8080/",
          "height": 341
        },
        "id": "c2701e21",
        "outputId": "6f3c868b-8038-4f09-f0cf-90c3cd7c61a0"
      },
      "outputs": [
        {
          "output_type": "display_data",
          "data": {
            "text/plain": [
              "<IPython.core.display.HTML object>"
            ],
            "text/html": [
              "\n",
              "     <input type=\"file\" id=\"files-d1707364-74a5-4fca-a88f-cbc0f8fb0f23\" name=\"files[]\" multiple disabled\n",
              "        style=\"border:none\" />\n",
              "     <output id=\"result-d1707364-74a5-4fca-a88f-cbc0f8fb0f23\">\n",
              "      Upload widget is only available when the cell has been executed in the\n",
              "      current browser session. Please rerun this cell to enable.\n",
              "      </output>\n",
              "      <script>// Copyright 2017 Google LLC\n",
              "//\n",
              "// Licensed under the Apache License, Version 2.0 (the \"License\");\n",
              "// you may not use this file except in compliance with the License.\n",
              "// You may obtain a copy of the License at\n",
              "//\n",
              "//      http://www.apache.org/licenses/LICENSE-2.0\n",
              "//\n",
              "// Unless required by applicable law or agreed to in writing, software\n",
              "// distributed under the License is distributed on an \"AS IS\" BASIS,\n",
              "// WITHOUT WARRANTIES OR CONDITIONS OF ANY KIND, either express or implied.\n",
              "// See the License for the specific language governing permissions and\n",
              "// limitations under the License.\n",
              "\n",
              "/**\n",
              " * @fileoverview Helpers for google.colab Python module.\n",
              " */\n",
              "(function(scope) {\n",
              "function span(text, styleAttributes = {}) {\n",
              "  const element = document.createElement('span');\n",
              "  element.textContent = text;\n",
              "  for (const key of Object.keys(styleAttributes)) {\n",
              "    element.style[key] = styleAttributes[key];\n",
              "  }\n",
              "  return element;\n",
              "}\n",
              "\n",
              "// Max number of bytes which will be uploaded at a time.\n",
              "const MAX_PAYLOAD_SIZE = 100 * 1024;\n",
              "\n",
              "function _uploadFiles(inputId, outputId) {\n",
              "  const steps = uploadFilesStep(inputId, outputId);\n",
              "  const outputElement = document.getElementById(outputId);\n",
              "  // Cache steps on the outputElement to make it available for the next call\n",
              "  // to uploadFilesContinue from Python.\n",
              "  outputElement.steps = steps;\n",
              "\n",
              "  return _uploadFilesContinue(outputId);\n",
              "}\n",
              "\n",
              "// This is roughly an async generator (not supported in the browser yet),\n",
              "// where there are multiple asynchronous steps and the Python side is going\n",
              "// to poll for completion of each step.\n",
              "// This uses a Promise to block the python side on completion of each step,\n",
              "// then passes the result of the previous step as the input to the next step.\n",
              "function _uploadFilesContinue(outputId) {\n",
              "  const outputElement = document.getElementById(outputId);\n",
              "  const steps = outputElement.steps;\n",
              "\n",
              "  const next = steps.next(outputElement.lastPromiseValue);\n",
              "  return Promise.resolve(next.value.promise).then((value) => {\n",
              "    // Cache the last promise value to make it available to the next\n",
              "    // step of the generator.\n",
              "    outputElement.lastPromiseValue = value;\n",
              "    return next.value.response;\n",
              "  });\n",
              "}\n",
              "\n",
              "/**\n",
              " * Generator function which is called between each async step of the upload\n",
              " * process.\n",
              " * @param {string} inputId Element ID of the input file picker element.\n",
              " * @param {string} outputId Element ID of the output display.\n",
              " * @return {!Iterable<!Object>} Iterable of next steps.\n",
              " */\n",
              "function* uploadFilesStep(inputId, outputId) {\n",
              "  const inputElement = document.getElementById(inputId);\n",
              "  inputElement.disabled = false;\n",
              "\n",
              "  const outputElement = document.getElementById(outputId);\n",
              "  outputElement.innerHTML = '';\n",
              "\n",
              "  const pickedPromise = new Promise((resolve) => {\n",
              "    inputElement.addEventListener('change', (e) => {\n",
              "      resolve(e.target.files);\n",
              "    });\n",
              "  });\n",
              "\n",
              "  const cancel = document.createElement('button');\n",
              "  inputElement.parentElement.appendChild(cancel);\n",
              "  cancel.textContent = 'Cancel upload';\n",
              "  const cancelPromise = new Promise((resolve) => {\n",
              "    cancel.onclick = () => {\n",
              "      resolve(null);\n",
              "    };\n",
              "  });\n",
              "\n",
              "  // Wait for the user to pick the files.\n",
              "  const files = yield {\n",
              "    promise: Promise.race([pickedPromise, cancelPromise]),\n",
              "    response: {\n",
              "      action: 'starting',\n",
              "    }\n",
              "  };\n",
              "\n",
              "  cancel.remove();\n",
              "\n",
              "  // Disable the input element since further picks are not allowed.\n",
              "  inputElement.disabled = true;\n",
              "\n",
              "  if (!files) {\n",
              "    return {\n",
              "      response: {\n",
              "        action: 'complete',\n",
              "      }\n",
              "    };\n",
              "  }\n",
              "\n",
              "  for (const file of files) {\n",
              "    const li = document.createElement('li');\n",
              "    li.append(span(file.name, {fontWeight: 'bold'}));\n",
              "    li.append(span(\n",
              "        `(${file.type || 'n/a'}) - ${file.size} bytes, ` +\n",
              "        `last modified: ${\n",
              "            file.lastModifiedDate ? file.lastModifiedDate.toLocaleDateString() :\n",
              "                                    'n/a'} - `));\n",
              "    const percent = span('0% done');\n",
              "    li.appendChild(percent);\n",
              "\n",
              "    outputElement.appendChild(li);\n",
              "\n",
              "    const fileDataPromise = new Promise((resolve) => {\n",
              "      const reader = new FileReader();\n",
              "      reader.onload = (e) => {\n",
              "        resolve(e.target.result);\n",
              "      };\n",
              "      reader.readAsArrayBuffer(file);\n",
              "    });\n",
              "    // Wait for the data to be ready.\n",
              "    let fileData = yield {\n",
              "      promise: fileDataPromise,\n",
              "      response: {\n",
              "        action: 'continue',\n",
              "      }\n",
              "    };\n",
              "\n",
              "    // Use a chunked sending to avoid message size limits. See b/62115660.\n",
              "    let position = 0;\n",
              "    do {\n",
              "      const length = Math.min(fileData.byteLength - position, MAX_PAYLOAD_SIZE);\n",
              "      const chunk = new Uint8Array(fileData, position, length);\n",
              "      position += length;\n",
              "\n",
              "      const base64 = btoa(String.fromCharCode.apply(null, chunk));\n",
              "      yield {\n",
              "        response: {\n",
              "          action: 'append',\n",
              "          file: file.name,\n",
              "          data: base64,\n",
              "        },\n",
              "      };\n",
              "\n",
              "      let percentDone = fileData.byteLength === 0 ?\n",
              "          100 :\n",
              "          Math.round((position / fileData.byteLength) * 100);\n",
              "      percent.textContent = `${percentDone}% done`;\n",
              "\n",
              "    } while (position < fileData.byteLength);\n",
              "  }\n",
              "\n",
              "  // All done.\n",
              "  yield {\n",
              "    response: {\n",
              "      action: 'complete',\n",
              "    }\n",
              "  };\n",
              "}\n",
              "\n",
              "scope.google = scope.google || {};\n",
              "scope.google.colab = scope.google.colab || {};\n",
              "scope.google.colab._files = {\n",
              "  _uploadFiles,\n",
              "  _uploadFilesContinue,\n",
              "};\n",
              "})(self);\n",
              "</script> "
            ]
          },
          "metadata": {}
        },
        {
          "output_type": "error",
          "ename": "KeyboardInterrupt",
          "evalue": "",
          "traceback": [
            "\u001b[0;31m---------------------------------------------------------------------------\u001b[0m",
            "\u001b[0;31mKeyboardInterrupt\u001b[0m                         Traceback (most recent call last)",
            "\u001b[0;32m/tmp/ipython-input-2535520808.py\u001b[0m in \u001b[0;36m<cell line: 0>\u001b[0;34m()\u001b[0m\n\u001b[1;32m      1\u001b[0m \u001b[0;32mfrom\u001b[0m \u001b[0mgoogle\u001b[0m\u001b[0;34m.\u001b[0m\u001b[0mcolab\u001b[0m \u001b[0;32mimport\u001b[0m \u001b[0mfiles\u001b[0m\u001b[0;34m\u001b[0m\u001b[0;34m\u001b[0m\u001b[0m\n\u001b[0;32m----> 2\u001b[0;31m \u001b[0muploaded\u001b[0m \u001b[0;34m=\u001b[0m \u001b[0mfiles\u001b[0m\u001b[0;34m.\u001b[0m\u001b[0mupload\u001b[0m\u001b[0;34m(\u001b[0m\u001b[0;34m)\u001b[0m\u001b[0;34m\u001b[0m\u001b[0;34m\u001b[0m\u001b[0m\n\u001b[0m",
            "\u001b[0;32m/usr/local/lib/python3.12/dist-packages/google/colab/files.py\u001b[0m in \u001b[0;36mupload\u001b[0;34m(target_dir)\u001b[0m\n\u001b[1;32m     70\u001b[0m   \"\"\"\n\u001b[1;32m     71\u001b[0m \u001b[0;34m\u001b[0m\u001b[0m\n\u001b[0;32m---> 72\u001b[0;31m   \u001b[0muploaded_files\u001b[0m \u001b[0;34m=\u001b[0m \u001b[0m_upload_files\u001b[0m\u001b[0;34m(\u001b[0m\u001b[0mmultiple\u001b[0m\u001b[0;34m=\u001b[0m\u001b[0;32mTrue\u001b[0m\u001b[0;34m)\u001b[0m\u001b[0;34m\u001b[0m\u001b[0;34m\u001b[0m\u001b[0m\n\u001b[0m\u001b[1;32m     73\u001b[0m   \u001b[0;31m# Mapping from original filename to filename as saved locally.\u001b[0m\u001b[0;34m\u001b[0m\u001b[0;34m\u001b[0m\u001b[0m\n\u001b[1;32m     74\u001b[0m   \u001b[0mlocal_filenames\u001b[0m \u001b[0;34m=\u001b[0m \u001b[0mdict\u001b[0m\u001b[0;34m(\u001b[0m\u001b[0;34m)\u001b[0m\u001b[0;34m\u001b[0m\u001b[0;34m\u001b[0m\u001b[0m\n",
            "\u001b[0;32m/usr/local/lib/python3.12/dist-packages/google/colab/files.py\u001b[0m in \u001b[0;36m_upload_files\u001b[0;34m(multiple)\u001b[0m\n\u001b[1;32m    169\u001b[0m   \u001b[0mfiles\u001b[0m \u001b[0;34m=\u001b[0m \u001b[0m_collections\u001b[0m\u001b[0;34m.\u001b[0m\u001b[0mdefaultdict\u001b[0m\u001b[0;34m(\u001b[0m\u001b[0mbytes\u001b[0m\u001b[0;34m)\u001b[0m\u001b[0;34m\u001b[0m\u001b[0;34m\u001b[0m\u001b[0m\n\u001b[1;32m    170\u001b[0m \u001b[0;34m\u001b[0m\u001b[0m\n\u001b[0;32m--> 171\u001b[0;31m   \u001b[0;32mwhile\u001b[0m \u001b[0mresult\u001b[0m\u001b[0;34m[\u001b[0m\u001b[0;34m'action'\u001b[0m\u001b[0;34m]\u001b[0m \u001b[0;34m!=\u001b[0m \u001b[0;34m'complete'\u001b[0m\u001b[0;34m:\u001b[0m\u001b[0;34m\u001b[0m\u001b[0;34m\u001b[0m\u001b[0m\n\u001b[0m\u001b[1;32m    172\u001b[0m     result = _output.eval_js(\n\u001b[1;32m    173\u001b[0m         'google.colab._files._uploadFilesContinue(\"{output_id}\")'.format(\n",
            "\u001b[0;31mKeyboardInterrupt\u001b[0m: "
          ]
        }
      ],
      "source": [
        "from google.colab import files\n",
        "uploaded = files.upload()"
      ]
    },
    {
      "cell_type": "code",
      "source": [
        "# Paso 2: Cargar el modelo binario (Gensim lee .gz directamente)\n",
        "from gensim.models import KeyedVectors\n",
        "import os\n",
        "\n",
        "# Nombre real del archivo que bajaste\n",
        "SBW_PATH = \"SBW-vectors-300-min5.bin.gz\"\n",
        "\n",
        "# (Opcional) limita vocab para ahorrar RAM; None = carga todo (~1GB+)\n",
        "LOAD_LIMIT = None  # por ejemplo 500_000 si te quedas corto de memoria\n",
        "\n",
        "assert os.path.exists(SBW_PATH), f\"No encuentro {SBW_PATH} en el directorio actual.\"\n",
        "\n",
        "# Carga robusta\n",
        "modelo = KeyedVectors.load_word2vec_format(\n",
        "    SBW_PATH,\n",
        "    binary=True,\n",
        "    unicode_errors=\"ignore\",\n",
        "    limit=LOAD_LIMIT\n",
        ")\n",
        "\n",
        "print(\"Embeddings cargados:\",\n",
        "      f\"{len(modelo.index_to_key):,} tokens • dimensión:\", modelo.vector_size)\n",
        "\n",
        "# (Opcional recomendado): guarda en formato .kv para cargas rápidas futuras\n",
        "# modelo.save(\"SBW-vectors-300-min5.kv\")\n"
      ],
      "metadata": {
        "colab": {
          "base_uri": "https://localhost:8080/"
        },
        "id": "sXFH4r6qpYw7",
        "outputId": "6942092d-e019-48d5-d361-94427d1039b5"
      },
      "id": "sXFH4r6qpYw7",
      "execution_count": null,
      "outputs": [
        {
          "output_type": "stream",
          "name": "stdout",
          "text": [
            "Embeddings cargados: 1,000,653 tokens • dimensión: 300\n"
          ]
        }
      ]
    },
    {
      "cell_type": "code",
      "source": [
        "# Paso 4: Preprocesar los documentos\n",
        "import re\n",
        "import unicodedata\n",
        "\n",
        "# 1) La tuya (elimina acentos y símbolos)\n",
        "def limpiar_texto_sin_acentos(texto):\n",
        "    texto = texto.lower()\n",
        "    texto = unicodedata.normalize('NFD', texto).encode('ascii', 'ignore').decode(\"utf-8\")\n",
        "    texto = re.sub(r'[^\\w\\s]', ' ', texto)\n",
        "    texto = re.sub(r'\\s+', ' ', texto).strip()\n",
        "    return texto.split()\n",
        "\n",
        "# 2) Alternativa (preserva acentos y ñ, solo limpia puntuación)\n",
        "def limpiar_texto_con_acentos(texto):\n",
        "    texto = texto.lower()\n",
        "    # conserva acentos/ñ; solo quita puntuación rara\n",
        "    texto = re.sub(r'[^\\w\\sáéíóúüñ]', ' ', texto, flags=re.IGNORECASE)\n",
        "    texto = re.sub(r'\\s+', ' ', texto).strip()\n",
        "    return texto.split()\n",
        "\n",
        "# Elige la que prefieras:\n",
        "limpiar_texto = limpiar_texto_con_acentos  # o limpiar_texto_sin_acentos\n",
        "\n",
        "tokens1 = limpiar_texto(doc1)\n",
        "tokens2 = limpiar_texto(doc2)\n",
        "print(\"Tokens documento 1:\", tokens1[:30], \"...\")\n",
        "print(\"Tokens documento 2:\", tokens2[:30], \"...\")\n"
      ],
      "metadata": {
        "colab": {
          "base_uri": "https://localhost:8080/"
        },
        "id": "27wcErXwpqbY",
        "outputId": "ec18ccd5-ba16-47fc-aead-7f751588c98c"
      },
      "id": "27wcErXwpqbY",
      "execution_count": null,
      "outputs": [
        {
          "output_type": "stream",
          "name": "stdout",
          "text": [
            "Tokens documento 1: ['la', 'inteligencia', 'artificial', 'ia', 'está', 'revolucionando', 'diversos', 'sectores', 'desde', 'la', 'salud', 'hasta', 'la', 'educación', 'las', 'empresas', 'están', 'utilizando', 'ia', 'para', 'automatizar', 'procesos', 'y', 'mejorar', 'la', 'eficiencia', 'una', 'de', 'las', 'aplicaciones'] ...\n",
            "Tokens documento 2: ['el', 'cambio', 'climático', 'representa', 'una', 'amenaza', 'global', 'que', 'requiere', 'atención', 'inmediata', 'los', 'fenómenos', 'naturales', 'extremos', 'son', 'cada', 'vez', 'más', 'frecuentes', 'e', 'intensos', 'las', 'emisiones', 'de', 'gases', 'de', 'efecto', 'invernadero', 'son'] ...\n"
          ]
        }
      ]
    },
    {
      "cell_type": "code",
      "source": [
        "# Cargar SBW (español)\n",
        "from gensim.models import KeyedVectors\n",
        "kv = KeyedVectors.load_word2vec_format(\"SBW-vectors-300-min5.bin.gz\", binary=True)\n",
        "\n",
        "import re, math, numpy as np\n",
        "from collections import Counter\n",
        "\n",
        "# Stopwords básicas en español (puedes ampliar)\n",
        "STOP_ES = set(\"\"\"\n",
        "a al algo algun alguna algunas alguno algunos ante antes aquel aquella aquellas aquellos aqui asi aunque\n",
        "bajo bien\n",
        "cada como con contra cual cuales cuando de del desde donde dos durante\n",
        "e el ella ellas ello ellos en entre era erais eramos eran eres es esa esas ese eso esos esta estaba estaban\n",
        "estamos estan estar este esto estos fue fueron fui fuimos ha haber habia habian hago hace hacen hacer hacia\n",
        "han hasta hay la las le les lo los mas me mi mis mucho muy nada ni no nos nosotros nuestra nuestras nuestro\n",
        "nuestros o os otra otras otro otros para pero poco por porque que quien quienes se ser si sino sin sobre solo\n",
        "son soy su sus tambien tan tanto te tiene tienen toda todas todo todos tras tu tus un una unas uno unos\n",
        "usted ustedes ya\n",
        "\"\"\".split())\n",
        "\n",
        "def tokenize_preservando_acentos(s: str):\n",
        "    s = s.lower()\n",
        "    # conserva áéíóúüñ y letras/números, reemplaza lo demás por espacio\n",
        "    s = re.sub(r\"[^\\w\\sáéíóúüñ]\", \" \", s, flags=re.IGNORECASE)\n",
        "    s = re.sub(r\"\\s+\", \" \", s).strip()\n",
        "    return s.split()\n",
        "\n",
        "def build_idf(texts_tokens):\n",
        "    N = len(texts_tokens)\n",
        "    df = Counter()\n",
        "    for toks in texts_tokens:\n",
        "        df.update(set(toks))\n",
        "    # IDF suavizado\n",
        "    return {w: math.log((N + 1) / (df[w] + 1)) + 1.0 for w in df}\n",
        "\n",
        "def doc_embedding(tokens, kv, idf=None):\n",
        "    vecs = []\n",
        "    weights = []\n",
        "    for t in tokens:\n",
        "        if t in STOP_ES:\n",
        "            continue\n",
        "        if t in kv.key_to_index:\n",
        "            w = idf.get(t, 1.0) if idf else 1.0\n",
        "            vecs.append(kv[t] * w)\n",
        "            weights.append(w)\n",
        "    if not vecs:\n",
        "        return np.zeros(kv.vector_size, dtype=np.float32)\n",
        "    V = np.vstack(vecs)\n",
        "    W = np.array(weights, dtype=np.float32).reshape(-1,1)\n",
        "    v = V.sum(axis=0) / (W.sum())\n",
        "    # normaliza (importante para coseno)\n",
        "    n = np.linalg.norm(v) + 1e-8\n",
        "    return (v / n).astype(np.float32)\n",
        "\n",
        "def coseno(a, b):\n",
        "    return float(np.dot(a, b))\n",
        "\n",
        "# ---- Usa tus doc1/doc2 aquí ----\n",
        "toks1 = tokenize_preservando_acentos(doc1)\n",
        "toks2 = tokenize_preservando_acentos(doc2)\n",
        "\n",
        "# IDF sobre ambos (o mejor, sobre varios docs si tienes)\n",
        "idf = build_idf([toks1, toks2])\n",
        "\n",
        "v1 = doc_embedding(toks1, kv, idf=idf)\n",
        "v2 = doc_embedding(toks2, kv, idf=idf)\n",
        "print(\"Similitud coseno (IDF + sin stopwords):\", round(coseno(v1, v2), 4))\n"
      ],
      "metadata": {
        "colab": {
          "base_uri": "https://localhost:8080/",
          "height": 384
        },
        "id": "gyL2JBeFFenc",
        "outputId": "82a3f4f3-549a-4563-bcd3-c7c8da657436"
      },
      "id": "gyL2JBeFFenc",
      "execution_count": null,
      "outputs": [
        {
          "output_type": "error",
          "ename": "ModuleNotFoundError",
          "evalue": "No module named 'gensim'",
          "traceback": [
            "\u001b[0;31m---------------------------------------------------------------------------\u001b[0m",
            "\u001b[0;31mModuleNotFoundError\u001b[0m                       Traceback (most recent call last)",
            "\u001b[0;32m/tmp/ipython-input-4289366458.py\u001b[0m in \u001b[0;36m<cell line: 0>\u001b[0;34m()\u001b[0m\n\u001b[1;32m      1\u001b[0m \u001b[0;31m# Cargar SBW (español)\u001b[0m\u001b[0;34m\u001b[0m\u001b[0;34m\u001b[0m\u001b[0m\n\u001b[0;32m----> 2\u001b[0;31m \u001b[0;32mfrom\u001b[0m \u001b[0mgensim\u001b[0m\u001b[0;34m.\u001b[0m\u001b[0mmodels\u001b[0m \u001b[0;32mimport\u001b[0m \u001b[0mKeyedVectors\u001b[0m\u001b[0;34m\u001b[0m\u001b[0;34m\u001b[0m\u001b[0m\n\u001b[0m\u001b[1;32m      3\u001b[0m \u001b[0mkv\u001b[0m \u001b[0;34m=\u001b[0m \u001b[0mKeyedVectors\u001b[0m\u001b[0;34m.\u001b[0m\u001b[0mload_word2vec_format\u001b[0m\u001b[0;34m(\u001b[0m\u001b[0;34m\"SBW-vectors-300-min5.bin.gz\"\u001b[0m\u001b[0;34m,\u001b[0m \u001b[0mbinary\u001b[0m\u001b[0;34m=\u001b[0m\u001b[0;32mTrue\u001b[0m\u001b[0;34m)\u001b[0m\u001b[0;34m\u001b[0m\u001b[0;34m\u001b[0m\u001b[0m\n\u001b[1;32m      4\u001b[0m \u001b[0;34m\u001b[0m\u001b[0m\n\u001b[1;32m      5\u001b[0m \u001b[0;32mimport\u001b[0m \u001b[0mre\u001b[0m\u001b[0;34m,\u001b[0m \u001b[0mmath\u001b[0m\u001b[0;34m,\u001b[0m \u001b[0mnumpy\u001b[0m \u001b[0;32mas\u001b[0m \u001b[0mnp\u001b[0m\u001b[0;34m\u001b[0m\u001b[0;34m\u001b[0m\u001b[0m\n",
            "\u001b[0;31mModuleNotFoundError\u001b[0m: No module named 'gensim'",
            "",
            "\u001b[0;31m---------------------------------------------------------------------------\u001b[0;32m\nNOTE: If your import is failing due to a missing package, you can\nmanually install dependencies using either !pip or !apt.\n\nTo view examples of installing some common dependencies, click the\n\"Open Examples\" button below.\n\u001b[0;31m---------------------------------------------------------------------------\u001b[0m\n"
          ],
          "errorDetails": {
            "actions": [
              {
                "action": "open_url",
                "actionText": "Open Examples",
                "url": "/notebooks/snippets/importing_libraries.ipynb"
              }
            ]
          }
        }
      ]
    }
  ],
  "metadata": {
    "colab": {
      "provenance": []
    },
    "language_info": {
      "name": "python"
    },
    "kernelspec": {
      "name": "python3",
      "display_name": "Python 3"
    }
  },
  "nbformat": 4,
  "nbformat_minor": 5
}